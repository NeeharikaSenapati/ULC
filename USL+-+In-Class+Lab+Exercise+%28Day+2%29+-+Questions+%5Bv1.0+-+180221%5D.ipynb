{
 "cells": [
  {
   "cell_type": "markdown",
   "metadata": {},
   "source": [
    "<table align=\"center\" width=100%>\n",
    "    <tr>\n",
    "        <td width=\"15%\">\n",
    "            <img src=\"GL-2.png\">\n",
    "            <img src=\"in_class.png\">\n",
    "        </td>\n",
    "        <td>\n",
    "            <div align=\"center\">\n",
    "                <font color=\"#21618C\" size=8px>\n",
    "                    <b> Inclass-Lab  <br>(Day 2)\n",
    "                    </b>\n",
    "                </font>\n",
    "            </div>\n",
    "        </td>\n",
    "    </tr>\n",
    "</table>"
   ]
  },
  {
   "cell_type": "markdown",
   "metadata": {},
   "source": [
    "### About the dataset (CO<sub>2</sub> emission data)\n",
    "\n",
    "In the dataset, the CO<sub>2</sub> emission for various regions in the world is given. Our objective is to group the regions based on the factors affecting the environment in terms of the greenhouse gases, where CO<sub>2</sub> is a primary greenhouse gas. \n",
    "\n",
    "Many developing and developed countries in the world are contributing to the CO<sub>2</sub> emission in the environment. It is interesting to know that the increase in atmospheric carbon dioxide is responsible for about two-thirds of the total energy imbalance that is causing Earth's temperature to rise and leads to global warming.\n",
    "\n",
    "**Region**: Region of the country\n",
    "\n",
    "**CO2 Emission**: Annual CO<sub>2</sub> emission (in tonnes)\n",
    "\n",
    "**Ease of Business**: The ease of business in the country\n",
    "\n",
    "**Energy Usage**: Energy used by the country in various forms\n",
    "\n",
    "**GDP**: GDP of a country\n",
    "\n",
    "**Internet Usage**: Usage of the internet \n",
    "\n",
    "**Population total**: Total population of a country"
   ]
  },
  {
   "cell_type": "markdown",
   "metadata": {},
   "source": [
    "## Table of Content\n",
    "\n",
    "1. **[Exploratory Data Analysis](#lib)**\n",
    "2. **[Hierarchical Clustering](#hie)**\n",
    "3. **[DBSCAN](#DBSCAN)**"
   ]
  },
  {
   "cell_type": "markdown",
   "metadata": {},
   "source": [
    "#### Import the required libraries"
   ]
  },
  {
   "cell_type": "code",
   "execution_count": 1,
   "metadata": {},
   "outputs": [],
   "source": [
    "import pandas as pd\n",
    "import numpy as np\n",
    "import matplotlib.pyplot as plt\n",
    "import seaborn as sns"
   ]
  },
  {
   "cell_type": "markdown",
   "metadata": {},
   "source": [
    "#### Read the data\n",
    "\n",
    "Load the csv file and print the first five observations."
   ]
  },
  {
   "cell_type": "code",
   "execution_count": 2,
   "metadata": {},
   "outputs": [
    {
     "data": {
      "text/html": [
       "<div>\n",
       "<style scoped>\n",
       "    .dataframe tbody tr th:only-of-type {\n",
       "        vertical-align: middle;\n",
       "    }\n",
       "\n",
       "    .dataframe tbody tr th {\n",
       "        vertical-align: top;\n",
       "    }\n",
       "\n",
       "    .dataframe thead th {\n",
       "        text-align: right;\n",
       "    }\n",
       "</style>\n",
       "<table border=\"1\" class=\"dataframe\">\n",
       "  <thead>\n",
       "    <tr style=\"text-align: right;\">\n",
       "      <th></th>\n",
       "      <th>Region</th>\n",
       "      <th>CO2 Emissions</th>\n",
       "      <th>Ease of Business</th>\n",
       "      <th>Energy Usage</th>\n",
       "      <th>GDP</th>\n",
       "      <th>Internet Usage</th>\n",
       "      <th>Population Total</th>\n",
       "    </tr>\n",
       "  </thead>\n",
       "  <tbody>\n",
       "    <tr>\n",
       "      <th>0</th>\n",
       "      <td>Europe</td>\n",
       "      <td>4294</td>\n",
       "      <td>151</td>\n",
       "      <td>1976</td>\n",
       "      <td>5.652325e+09</td>\n",
       "      <td>0.010</td>\n",
       "      <td>3033659</td>\n",
       "    </tr>\n",
       "    <tr>\n",
       "      <th>1</th>\n",
       "      <td>Europe</td>\n",
       "      <td>4166</td>\n",
       "      <td>151</td>\n",
       "      <td>2172</td>\n",
       "      <td>7.464447e+09</td>\n",
       "      <td>0.024</td>\n",
       "      <td>3014579</td>\n",
       "    </tr>\n",
       "    <tr>\n",
       "      <th>2</th>\n",
       "      <td>Europe</td>\n",
       "      <td>4254</td>\n",
       "      <td>151</td>\n",
       "      <td>2172</td>\n",
       "      <td>8.376484e+09</td>\n",
       "      <td>0.060</td>\n",
       "      <td>2992724</td>\n",
       "    </tr>\n",
       "    <tr>\n",
       "      <th>3</th>\n",
       "      <td>Europe</td>\n",
       "      <td>3865</td>\n",
       "      <td>151</td>\n",
       "      <td>2068</td>\n",
       "      <td>9.132562e+09</td>\n",
       "      <td>0.096</td>\n",
       "      <td>2968028</td>\n",
       "    </tr>\n",
       "    <tr>\n",
       "      <th>4</th>\n",
       "      <td>Europe</td>\n",
       "      <td>4056</td>\n",
       "      <td>151</td>\n",
       "      <td>2025</td>\n",
       "      <td>1.070101e+10</td>\n",
       "      <td>0.150</td>\n",
       "      <td>2940880</td>\n",
       "    </tr>\n",
       "  </tbody>\n",
       "</table>\n",
       "</div>"
      ],
      "text/plain": [
       "   Region  CO2 Emissions  Ease of Business  Energy Usage           GDP  \\\n",
       "0  Europe           4294               151          1976  5.652325e+09   \n",
       "1  Europe           4166               151          2172  7.464447e+09   \n",
       "2  Europe           4254               151          2172  8.376484e+09   \n",
       "3  Europe           3865               151          2068  9.132562e+09   \n",
       "4  Europe           4056               151          2025  1.070101e+10   \n",
       "\n",
       "   Internet Usage  Population Total  \n",
       "0           0.010           3033659  \n",
       "1           0.024           3014579  \n",
       "2           0.060           2992724  \n",
       "3           0.096           2968028  \n",
       "4           0.150           2940880  "
      ]
     },
     "execution_count": 2,
     "metadata": {},
     "output_type": "execute_result"
    }
   ],
   "source": [
    "df=pd.read_csv('CO2_emission_data.csv')\n",
    "df.head()"
   ]
  },
  {
   "cell_type": "markdown",
   "metadata": {},
   "source": [
    "\n",
    "### Let's begin with some hands-on practice exercises"
   ]
  },
  {
   "cell_type": "markdown",
   "metadata": {},
   "source": [
    "<a id=\"lib\"> </a>\n",
    "## 1. Exploratory Data Analysis"
   ]
  },
  {
   "cell_type": "markdown",
   "metadata": {},
   "source": [
    "<table align=\"left\">\n",
    "    <tr>\n",
    "        <td width=\"6%\">\n",
    "            <img src=\"question_icon.png\">\n",
    "        </td>\n",
    "        <td>\n",
    "            <div align=\"left\", style=\"font-size:120%\">\n",
    "                <font color=\"#21618C\">\n",
    "                    <b>1. Identify the different regions to which the countries belong and visualize the count of countries.</b>\n",
    "                </font>\n",
    "            </div>\n",
    "        </td>\n",
    "    </tr>\n",
    "</table>"
   ]
  },
  {
   "cell_type": "code",
   "execution_count": 3,
   "metadata": {},
   "outputs": [
    {
     "data": {
      "image/png": "[encoded data removed]",
      "text/plain": [
       "<Figure size 432x288 with 1 Axes>"
      ]
     },
     "metadata": {
      "needs_background": "light"
     },
     "output_type": "display_data"
    }
   ],
   "source": [
    "df['Region'].value_counts().plot(kind='bar')\n",
    "plt.show()"
   ]
  },
  {
   "cell_type": "markdown",
   "metadata": {},
   "source": [
    "<table align=\"left\">\n",
    "    <tr>\n",
    "        <td width=\"6%\">\n",
    "            <img src=\"question_icon.png\">\n",
    "        </td>\n",
    "        <td>\n",
    "            <div align=\"left\", style=\"font-size:120%\">\n",
    "                <font color=\"#21618C\">\n",
    "                    <b>2. Check the datatype, dimension and summary statistics of the data.</b>\n",
    "                </font>\n",
    "            </div>\n",
    "        </td>\n",
    "    </tr>\n",
    "</table>"
   ]
  },
  {
   "cell_type": "code",
   "execution_count": 4,
   "metadata": {
    "scrolled": true
   },
   "outputs": [
    {
     "data": {
      "text/plain": [
       "Region               object\n",
       "CO2 Emissions         int64\n",
       "Ease of Business      int64\n",
       "Energy Usage          int64\n",
       "GDP                 float64\n",
       "Internet Usage      float64\n",
       "Population Total      int64\n",
       "dtype: object"
      ]
     },
     "execution_count": 4,
     "metadata": {},
     "output_type": "execute_result"
    }
   ],
   "source": [
    "df.dtypes"
   ]
  },
  {
   "cell_type": "code",
   "execution_count": 5,
   "metadata": {},
   "outputs": [
    {
     "data": {
      "text/plain": [
       "(1243, 7)"
      ]
     },
     "execution_count": 5,
     "metadata": {},
     "output_type": "execute_result"
    }
   ],
   "source": [
    "df.shape"
   ]
  },
  {
   "cell_type": "code",
   "execution_count": 6,
   "metadata": {},
   "outputs": [
    {
     "data": {
      "text/html": [
       "<div>\n",
       "<style scoped>\n",
       "    .dataframe tbody tr th:only-of-type {\n",
       "        vertical-align: middle;\n",
       "    }\n",
       "\n",
       "    .dataframe tbody tr th {\n",
       "        vertical-align: top;\n",
       "    }\n",
       "\n",
       "    .dataframe thead th {\n",
       "        text-align: right;\n",
       "    }\n",
       "</style>\n",
       "<table border=\"1\" class=\"dataframe\">\n",
       "  <thead>\n",
       "    <tr style=\"text-align: right;\">\n",
       "      <th></th>\n",
       "      <th>CO2 Emissions</th>\n",
       "      <th>Ease of Business</th>\n",
       "      <th>Energy Usage</th>\n",
       "      <th>GDP</th>\n",
       "      <th>Internet Usage</th>\n",
       "      <th>Population Total</th>\n",
       "    </tr>\n",
       "  </thead>\n",
       "  <tbody>\n",
       "    <tr>\n",
       "      <th>count</th>\n",
       "      <td>1.243000e+03</td>\n",
       "      <td>1243.000000</td>\n",
       "      <td>1.243000e+03</td>\n",
       "      <td>1.243000e+03</td>\n",
       "      <td>1236.000000</td>\n",
       "      <td>1.243000e+03</td>\n",
       "    </tr>\n",
       "    <tr>\n",
       "      <th>mean</th>\n",
       "      <td>1.897666e+05</td>\n",
       "      <td>88.279968</td>\n",
       "      <td>7.541842e+04</td>\n",
       "      <td>3.535548e+11</td>\n",
       "      <td>0.329983</td>\n",
       "      <td>4.513494e+07</td>\n",
       "    </tr>\n",
       "    <tr>\n",
       "      <th>std</th>\n",
       "      <td>7.697027e+05</td>\n",
       "      <td>52.770388</td>\n",
       "      <td>2.707586e+05</td>\n",
       "      <td>1.358970e+12</td>\n",
       "      <td>1.634042</td>\n",
       "      <td>1.600483e+08</td>\n",
       "    </tr>\n",
       "    <tr>\n",
       "      <th>min</th>\n",
       "      <td>4.800000e+01</td>\n",
       "      <td>1.000000</td>\n",
       "      <td>3.000000e+01</td>\n",
       "      <td>1.232585e+08</td>\n",
       "      <td>0.000000</td>\n",
       "      <td>6.966000e+04</td>\n",
       "    </tr>\n",
       "    <tr>\n",
       "      <th>25%</th>\n",
       "      <td>3.111500e+03</td>\n",
       "      <td>45.000000</td>\n",
       "      <td>2.721000e+03</td>\n",
       "      <td>7.746581e+09</td>\n",
       "      <td>0.062000</td>\n",
       "      <td>2.097088e+06</td>\n",
       "    </tr>\n",
       "    <tr>\n",
       "      <th>50%</th>\n",
       "      <td>1.620800e+04</td>\n",
       "      <td>85.000000</td>\n",
       "      <td>9.318000e+03</td>\n",
       "      <td>2.468037e+10</td>\n",
       "      <td>0.200500</td>\n",
       "      <td>7.739900e+06</td>\n",
       "    </tr>\n",
       "    <tr>\n",
       "      <th>75%</th>\n",
       "      <td>7.581200e+04</td>\n",
       "      <td>131.000000</td>\n",
       "      <td>3.495650e+04</td>\n",
       "      <td>1.770000e+11</td>\n",
       "      <td>0.460000</td>\n",
       "      <td>2.884664e+07</td>\n",
       "    </tr>\n",
       "    <tr>\n",
       "      <th>max</th>\n",
       "      <td>8.286892e+06</td>\n",
       "      <td>186.000000</td>\n",
       "      <td>2.727728e+06</td>\n",
       "      <td>1.620000e+13</td>\n",
       "      <td>57.000000</td>\n",
       "      <td>1.350695e+09</td>\n",
       "    </tr>\n",
       "  </tbody>\n",
       "</table>\n",
       "</div>"
      ],
      "text/plain": [
       "       CO2 Emissions  Ease of Business  Energy Usage           GDP  \\\n",
       "count   1.243000e+03       1243.000000  1.243000e+03  1.243000e+03   \n",
       "mean    1.897666e+05         88.279968  7.541842e+04  3.535548e+11   \n",
       "std     7.697027e+05         52.770388  2.707586e+05  1.358970e+12   \n",
       "min     4.800000e+01          1.000000  3.000000e+01  1.232585e+08   \n",
       "25%     3.111500e+03         45.000000  2.721000e+03  7.746581e+09   \n",
       "50%     1.620800e+04         85.000000  9.318000e+03  2.468037e+10   \n",
       "75%     7.581200e+04        131.000000  3.495650e+04  1.770000e+11   \n",
       "max     8.286892e+06        186.000000  2.727728e+06  1.620000e+13   \n",
       "\n",
       "       Internet Usage  Population Total  \n",
       "count     1236.000000      1.243000e+03  \n",
       "mean         0.329983      4.513494e+07  \n",
       "std          1.634042      1.600483e+08  \n",
       "min          0.000000      6.966000e+04  \n",
       "25%          0.062000      2.097088e+06  \n",
       "50%          0.200500      7.739900e+06  \n",
       "75%          0.460000      2.884664e+07  \n",
       "max         57.000000      1.350695e+09  "
      ]
     },
     "execution_count": 6,
     "metadata": {},
     "output_type": "execute_result"
    }
   ],
   "source": [
    "df.describe()"
   ]
  },
  {
   "cell_type": "markdown",
   "metadata": {},
   "source": [
    "<table align=\"left\">\n",
    "    <tr>\n",
    "        <td width=\"6%\">\n",
    "            <img src=\"question_icon.png\">\n",
    "        </td>\n",
    "        <td>\n",
    "            <div align=\"left\", style=\"font-size:120%\">\n",
    "                <font color=\"#21618C\">\n",
    "                    <b>3. Drop the variables 'Region', 'Ease of Business', 'Internet Usage'.</b>\n",
    "                </font>\n",
    "            </div>\n",
    "        </td>\n",
    "    </tr>\n",
    "</table>"
   ]
  },
  {
   "cell_type": "code",
   "execution_count": 7,
   "metadata": {},
   "outputs": [],
   "source": [
    "df=df.drop(['Region', 'Ease of Business', 'Internet Usage'],axis=1)"
   ]
  },
  {
   "cell_type": "markdown",
   "metadata": {},
   "source": [
    "<table align=\"left\">\n",
    "    <tr>\n",
    "        <td width=\"6%\">\n",
    "            <img src=\"question_icon.png\">\n",
    "        </td>\n",
    "        <td>\n",
    "            <div align=\"left\", style=\"font-size:120%\">\n",
    "                <font color=\"#21618C\">\n",
    "                    <b>4. Check if there are missing values, if yes then remove the observations with missing values.</b>\n",
    "                </font>\n",
    "            </div>\n",
    "        </td>\n",
    "    </tr>\n",
    "</table>"
   ]
  },
  {
   "cell_type": "code",
   "execution_count": 8,
   "metadata": {
    "scrolled": true
   },
   "outputs": [
    {
     "data": {
      "text/plain": [
       "CO2 Emissions       0\n",
       "Energy Usage        0\n",
       "GDP                 0\n",
       "Population Total    0\n",
       "dtype: int64"
      ]
     },
     "execution_count": 8,
     "metadata": {},
     "output_type": "execute_result"
    }
   ],
   "source": [
    "df.isnull().sum()"
   ]
  },
  {
   "cell_type": "markdown",
   "metadata": {},
   "source": [
    "<table align=\"left\">\n",
    "    <tr>\n",
    "        <td width=\"6%\">\n",
    "            <img src=\"question_icon.png\">\n",
    "        </td>\n",
    "        <td>\n",
    "            <div align=\"left\", style=\"font-size:120%\">\n",
    "                <font color=\"#21618C\">\n",
    "                    <b>5. Check if there are outliers in the data and visualize the outliers using a boxplot.</b>\n",
    "                </font>\n",
    "            </div>\n",
    "        </td>\n",
    "    </tr>\n",
    "</table>"
   ]
  },
  {
   "cell_type": "code",
   "execution_count": 9,
   "metadata": {},
   "outputs": [
    {
     "data": {
      "image/png": "[encoded data removed]",
      "text/plain": [
       "<Figure size 432x288 with 1 Axes>"
      ]
     },
     "metadata": {
      "needs_background": "light"
     },
     "output_type": "display_data"
    },
    {
     "data": {
      "image/png": "[encoded data removed]",
      "text/plain": [
       "<Figure size 432x288 with 1 Axes>"
      ]
     },
     "metadata": {
      "needs_background": "light"
     },
     "output_type": "display_data"
    },
    {
     "data": {
      "image/png": "[encoded data removed]",
      "text/plain": [
       "<Figure size 432x288 with 1 Axes>"
      ]
     },
     "metadata": {
      "needs_background": "light"
     },
     "output_type": "display_data"
    },
    {
     "data": {
      "image/png": "[encoded data removed]",
      "text/plain": [
       "<Figure size 432x288 with 1 Axes>"
      ]
     },
     "metadata": {
      "needs_background": "light"
     },
     "output_type": "display_data"
    }
   ],
   "source": [
    "for col in df.columns:\n",
    "    sns.boxplot(x=col,data=df)\n",
    "    plt.show()"
   ]
  },
  {
   "cell_type": "markdown",
   "metadata": {},
   "source": [
    "<table align=\"left\">\n",
    "    <tr>\n",
    "        <td width=\"6%\">\n",
    "            <img src=\"question_icon.png\">\n",
    "        </td>\n",
    "        <td>\n",
    "            <div align=\"left\", style=\"font-size:120%\">\n",
    "                <font color=\"#21618C\">\n",
    "                    <b>6. Remove the outliers using 3.5IQR and check the shape of the data.</b>\n",
    "                </font>\n",
    "            </div>\n",
    "        </td>\n",
    "    </tr>\n",
    "</table>"
   ]
  },
  {
   "cell_type": "code",
   "execution_count": 10,
   "metadata": {},
   "outputs": [],
   "source": [
    "q1=df.quantile(0.25)\n",
    "q3=df.quantile(0.75)\n",
    "iqr=q3-q1\n",
    "\n",
    "dfc=df[~((df<(q1-1.5*iqr))|(df>(q3+1.5*iqr))).any(axis=1)]\n",
    "dfc=dfc.reset_index(drop=True)"
   ]
  },
  {
   "cell_type": "code",
   "execution_count": 11,
   "metadata": {},
   "outputs": [
    {
     "data": {
      "text/plain": [
       "(959, 4)"
      ]
     },
     "execution_count": 11,
     "metadata": {},
     "output_type": "execute_result"
    }
   ],
   "source": [
    "dfc.shape"
   ]
  },
  {
   "cell_type": "markdown",
   "metadata": {},
   "source": [
    "<table align=\"left\">\n",
    "    <tr>\n",
    "        <td width=\"6%\">\n",
    "            <img src=\"question_icon.png\">\n",
    "        </td>\n",
    "        <td>\n",
    "            <div align=\"left\", style=\"font-size:120%\">\n",
    "                <font color=\"#21618C\">\n",
    "                    <b>7. Visualize the data obtained after removing the outliers with the help of a boxplot.</b>\n",
    "                </font>\n",
    "            </div>\n",
    "        </td>\n",
    "    </tr>\n",
    "</table>"
   ]
  },
  {
   "cell_type": "code",
   "execution_count": 12,
   "metadata": {},
   "outputs": [
    {
     "data": {
      "image/png": "[encoded data removed]",
      "text/plain": [
       "<Figure size 432x288 with 1 Axes>"
      ]
     },
     "metadata": {
      "needs_background": "light"
     },
     "output_type": "display_data"
    },
    {
     "data": {
      "image/png": "[encoded data removed]",
      "text/plain": [
       "<Figure size 432x288 with 1 Axes>"
      ]
     },
     "metadata": {
      "needs_background": "light"
     },
     "output_type": "display_data"
    },
    {
     "data": {
      "image/png": "[encoded data removed]",
      "text/plain": [
       "<Figure size 432x288 with 1 Axes>"
      ]
     },
     "metadata": {
      "needs_background": "light"
     },
     "output_type": "display_data"
    },
    {
     "data": {
      "image/png": "[encoded data removed]",
      "text/plain": [
       "<Figure size 432x288 with 1 Axes>"
      ]
     },
     "metadata": {
      "needs_background": "light"
     },
     "output_type": "display_data"
    }
   ],
   "source": [
    "for col in df.columns:\n",
    "    sns.boxplot(x=col,data=dfc)\n",
    "    plt.show()"
   ]
  },
  {
   "cell_type": "markdown",
   "metadata": {},
   "source": [
    "<table align=\"left\">\n",
    "    <tr>\n",
    "        <td width=\"6%\">\n",
    "            <img src=\"question_icon.png\">\n",
    "        </td>\n",
    "        <td>\n",
    "            <div align=\"left\", style=\"font-size:120%\">\n",
    "                <font color=\"#21618C\">\n",
    "                    <b>8. Transform the variables in the standard form such that they will have mean 0 and standard deviation 1 and get the summary.</b>\n",
    "                </font>\n",
    "            </div>\n",
    "        </td>\n",
    "    </tr>\n",
    "</table>"
   ]
  },
  {
   "cell_type": "code",
   "execution_count": 13,
   "metadata": {},
   "outputs": [
    {
     "data": {
      "text/html": [
       "<div>\n",
       "<style scoped>\n",
       "    .dataframe tbody tr th:only-of-type {\n",
       "        vertical-align: middle;\n",
       "    }\n",
       "\n",
       "    .dataframe tbody tr th {\n",
       "        vertical-align: top;\n",
       "    }\n",
       "\n",
       "    .dataframe thead th {\n",
       "        text-align: right;\n",
       "    }\n",
       "</style>\n",
       "<table border=\"1\" class=\"dataframe\">\n",
       "  <thead>\n",
       "    <tr style=\"text-align: right;\">\n",
       "      <th></th>\n",
       "      <th>CO2 Emissions</th>\n",
       "      <th>Energy Usage</th>\n",
       "      <th>GDP</th>\n",
       "      <th>Population Total</th>\n",
       "    </tr>\n",
       "  </thead>\n",
       "  <tbody>\n",
       "    <tr>\n",
       "      <th>count</th>\n",
       "      <td>9.590000e+02</td>\n",
       "      <td>9.590000e+02</td>\n",
       "      <td>9.590000e+02</td>\n",
       "      <td>9.590000e+02</td>\n",
       "    </tr>\n",
       "    <tr>\n",
       "      <th>mean</th>\n",
       "      <td>3.009989e-17</td>\n",
       "      <td>-6.578563e-17</td>\n",
       "      <td>2.564279e-17</td>\n",
       "      <td>3.924563e-17</td>\n",
       "    </tr>\n",
       "    <tr>\n",
       "      <th>std</th>\n",
       "      <td>1.000522e+00</td>\n",
       "      <td>1.000522e+00</td>\n",
       "      <td>1.000522e+00</td>\n",
       "      <td>1.000522e+00</td>\n",
       "    </tr>\n",
       "    <tr>\n",
       "      <th>min</th>\n",
       "      <td>-6.956444e-01</td>\n",
       "      <td>-7.964680e-01</td>\n",
       "      <td>-5.947080e-01</td>\n",
       "      <td>-7.555132e-01</td>\n",
       "    </tr>\n",
       "    <tr>\n",
       "      <th>25%</th>\n",
       "      <td>-6.334788e-01</td>\n",
       "      <td>-6.937667e-01</td>\n",
       "      <td>-5.394153e-01</td>\n",
       "      <td>-6.682006e-01</td>\n",
       "    </tr>\n",
       "    <tr>\n",
       "      <th>50%</th>\n",
       "      <td>-4.735255e-01</td>\n",
       "      <td>-4.172297e-01</td>\n",
       "      <td>-4.149283e-01</td>\n",
       "      <td>-3.897600e-01</td>\n",
       "    </tr>\n",
       "    <tr>\n",
       "      <th>75%</th>\n",
       "      <td>2.228619e-01</td>\n",
       "      <td>4.309051e-01</td>\n",
       "      <td>-4.921532e-02</td>\n",
       "      <td>1.050455e-01</td>\n",
       "    </tr>\n",
       "    <tr>\n",
       "      <th>max</th>\n",
       "      <td>4.762847e+00</td>\n",
       "      <td>4.760214e+00</td>\n",
       "      <td>4.617271e+00</td>\n",
       "      <td>4.940193e+00</td>\n",
       "    </tr>\n",
       "  </tbody>\n",
       "</table>\n",
       "</div>"
      ],
      "text/plain": [
       "       CO2 Emissions  Energy Usage           GDP  Population Total\n",
       "count   9.590000e+02  9.590000e+02  9.590000e+02      9.590000e+02\n",
       "mean    3.009989e-17 -6.578563e-17  2.564279e-17      3.924563e-17\n",
       "std     1.000522e+00  1.000522e+00  1.000522e+00      1.000522e+00\n",
       "min    -6.956444e-01 -7.964680e-01 -5.947080e-01     -7.555132e-01\n",
       "25%    -6.334788e-01 -6.937667e-01 -5.394153e-01     -6.682006e-01\n",
       "50%    -4.735255e-01 -4.172297e-01 -4.149283e-01     -3.897600e-01\n",
       "75%     2.228619e-01  4.309051e-01 -4.921532e-02      1.050455e-01\n",
       "max     4.762847e+00  4.760214e+00  4.617271e+00      4.940193e+00"
      ]
     },
     "execution_count": 13,
     "metadata": {},
     "output_type": "execute_result"
    }
   ],
   "source": [
    "from sklearn.preprocessing import StandardScaler\n",
    "ss= StandardScaler()\n",
    "dfcs=ss.fit_transform(dfc)\n",
    "dfcs=pd.DataFrame(dfcs,columns=dfc.columns)\n",
    "dfcs.describe()"
   ]
  },
  {
   "cell_type": "markdown",
   "metadata": {},
   "source": [
    "<a id=\"hie\"></a>\n",
    "## 2. Hierarchical Clustering"
   ]
  },
  {
   "cell_type": "markdown",
   "metadata": {},
   "source": [
    "<table align=\"left\">\n",
    "    <tr>\n",
    "        <td width=\"6%\">\n",
    "            <img src=\"question_icon.png\">\n",
    "        </td>\n",
    "        <td>\n",
    "            <div align=\"left\", style=\"font-size:120%\">\n",
    "                <font color=\"#21618C\">\n",
    "                    <b>9. Use the 'ward' linkage method and print the first 10 observations of the linkage matrix.</b>\n",
    "                </font>\n",
    "            </div>\n",
    "        </td>\n",
    "    </tr>\n",
    "</table>"
   ]
  },
  {
   "cell_type": "code",
   "execution_count": 14,
   "metadata": {},
   "outputs": [
    {
     "data": {
      "text/plain": [
       "array([[3.68000000e+02, 3.70000000e+02, 3.31426860e-05, 2.00000000e+00],\n",
       "       [3.79000000e+02, 3.80000000e+02, 5.57596819e-05, 2.00000000e+00],\n",
       "       [3.69000000e+02, 3.71000000e+02, 1.26515231e-04, 2.00000000e+00],\n",
       "       [3.60000000e+01, 3.70000000e+01, 1.30664244e-04, 2.00000000e+00],\n",
       "       [2.60000000e+01, 2.70000000e+01, 1.60740409e-04, 2.00000000e+00],\n",
       "       [3.72000000e+02, 3.73000000e+02, 2.01381843e-04, 2.00000000e+00],\n",
       "       [4.64000000e+02, 4.65000000e+02, 2.12888799e-04, 2.00000000e+00],\n",
       "       [7.58000000e+02, 7.60000000e+02, 2.17210956e-04, 2.00000000e+00],\n",
       "       [8.83000000e+02, 8.84000000e+02, 2.24105610e-04, 2.00000000e+00],\n",
       "       [7.57000000e+02, 7.59000000e+02, 2.41935452e-04, 2.00000000e+00]])"
      ]
     },
     "execution_count": 14,
     "metadata": {},
     "output_type": "execute_result"
    },
    {
     "data": {
      "text/plain": [
       "<Figure size 1800x720 with 0 Axes>"
      ]
     },
     "metadata": {},
     "output_type": "display_data"
    }
   ],
   "source": [
    "from scipy.cluster.hierarchy import linkage,dendrogram,cut_tree\n",
    "plt.figure(figsize=(25,10))\n",
    "link=linkage(dfcs,method='ward')\n",
    "\n",
    "link[:10]"
   ]
  },
  {
   "cell_type": "markdown",
   "metadata": {},
   "source": [
    "<table align=\"left\">\n",
    "    <tr>\n",
    "        <td width=\"6%\">\n",
    "            <img src=\"question_icon.png\">\n",
    "        </td>\n",
    "        <td>\n",
    "            <div align=\"left\", style=\"font-size:120%\">\n",
    "                <font color=\"#21618C\">\n",
    "                    <b>10. Visualize the clusters obtained using dendrogram and find the optimal number of clusters.</b>\n",
    "                </font>\n",
    "            </div>\n",
    "        </td>\n",
    "    </tr>\n",
    "</table>"
   ]
  },
  {
   "cell_type": "code",
   "execution_count": 15,
   "metadata": {
    "scrolled": false
   },
   "outputs": [
    {
     "data": {
      "image/png": "[encoded data removed]",
      "text/plain": [
       "<Figure size 1800x720 with 1 Axes>"
      ]
     },
     "metadata": {
      "needs_background": "light"
     },
     "output_type": "display_data"
    }
   ],
   "source": [
    "plt.figure(figsize=(25,10))\n",
    "dendrogram(link)\n",
    "plt.show()"
   ]
  },
  {
   "cell_type": "raw",
   "metadata": {},
   "source": [
    "Using the thumb rule of longest stem(look for clusters just above the start of longest stem), optimal number of cluster is 4"
   ]
  },
  {
   "cell_type": "markdown",
   "metadata": {},
   "source": [
    "<table align=\"left\">\n",
    "    <tr>\n",
    "        <td width=\"6%\">\n",
    "            <img src=\"question_icon.png\">\n",
    "        </td>\n",
    "        <td>\n",
    "            <div align=\"left\", style=\"font-size:120%\">\n",
    "                <font color=\"#21618C\">\n",
    "                    <b>11. Find the cophenetic correlation coefficient and interpret it.</b>\n",
    "                </font>\n",
    "            </div>\n",
    "        </td>\n",
    "    </tr>\n",
    "</table>"
   ]
  },
  {
   "cell_type": "code",
   "execution_count": 16,
   "metadata": {},
   "outputs": [
    {
     "name": "stdout",
     "output_type": "stream",
     "text": [
      "cophenetic correlation : 0.8592863001700541\n"
     ]
    }
   ],
   "source": [
    "from sklearn.metrics.pairwise import euclidean_distances\n",
    "from scipy.cluster.hierarchy import cophenet\n",
    "eucl_dist = euclidean_distances(dfcs)\n",
    "dist_array=eucl_dist[np.triu_indices(959,k=1)]\n",
    "\n",
    "coeff,cophenet_dist=cophenet(link,dist_array)\n",
    "print('cophenetic correlation :',coeff)"
   ]
  },
  {
   "cell_type": "markdown",
   "metadata": {},
   "source": [
    "<table align=\"left\">\n",
    "    <tr>\n",
    "        <td width=\"6%\">\n",
    "            <img src=\"question_icon.png\">\n",
    "        </td>\n",
    "        <td>\n",
    "            <div align=\"left\", style=\"font-size:120%\">\n",
    "                <font color=\"#21618C\">\n",
    "                    <b>12. Instantiate clustering method with an optimal number of clusters and 'ward' linkage method.</b>\n",
    "                </font>\n",
    "            </div>\n",
    "        </td>\n",
    "    </tr>\n",
    "</table>"
   ]
  },
  {
   "cell_type": "code",
   "execution_count": 17,
   "metadata": {},
   "outputs": [
    {
     "data": {
      "text/plain": [
       "0      0\n",
       "1      0\n",
       "2      0\n",
       "3      0\n",
       "4      0\n",
       "      ..\n",
       "954    0\n",
       "955    0\n",
       "956    0\n",
       "957    0\n",
       "958    0\n",
       "Length: 959, dtype: int32"
      ]
     },
     "execution_count": 17,
     "metadata": {},
     "output_type": "execute_result"
    }
   ],
   "source": [
    "clustercut=pd.Series(cut_tree(link,n_clusters=4).reshape(-1,))\n",
    "clustercut"
   ]
  },
  {
   "cell_type": "markdown",
   "metadata": {},
   "source": [
    "<table align=\"left\">\n",
    "    <tr>\n",
    "        <td width=\"6%\">\n",
    "            <img src=\"question_icon.png\">\n",
    "        </td>\n",
    "        <td>\n",
    "            <div align=\"left\", style=\"font-size:120%\">\n",
    "                <font color=\"#21618C\">\n",
    "                    <b>13. Obtain the cluster labels and add a column containing the cluster number to the original data.</b>\n",
    "                </font>\n",
    "            </div>\n",
    "        </td>\n",
    "    </tr>\n",
    "</table>"
   ]
  },
  {
   "cell_type": "code",
   "execution_count": 18,
   "metadata": {},
   "outputs": [
    {
     "data": {
      "text/html": [
       "<div>\n",
       "<style scoped>\n",
       "    .dataframe tbody tr th:only-of-type {\n",
       "        vertical-align: middle;\n",
       "    }\n",
       "\n",
       "    .dataframe tbody tr th {\n",
       "        vertical-align: top;\n",
       "    }\n",
       "\n",
       "    .dataframe thead th {\n",
       "        text-align: right;\n",
       "    }\n",
       "</style>\n",
       "<table border=\"1\" class=\"dataframe\">\n",
       "  <thead>\n",
       "    <tr style=\"text-align: right;\">\n",
       "      <th></th>\n",
       "      <th>CO2 Emissions</th>\n",
       "      <th>Energy Usage</th>\n",
       "      <th>GDP</th>\n",
       "      <th>Population Total</th>\n",
       "      <th>cluster</th>\n",
       "    </tr>\n",
       "  </thead>\n",
       "  <tbody>\n",
       "    <tr>\n",
       "      <th>0</th>\n",
       "      <td>4294</td>\n",
       "      <td>1976</td>\n",
       "      <td>5.652325e+09</td>\n",
       "      <td>3033659</td>\n",
       "      <td>0</td>\n",
       "    </tr>\n",
       "    <tr>\n",
       "      <th>1</th>\n",
       "      <td>4166</td>\n",
       "      <td>2172</td>\n",
       "      <td>7.464447e+09</td>\n",
       "      <td>3014579</td>\n",
       "      <td>0</td>\n",
       "    </tr>\n",
       "    <tr>\n",
       "      <th>2</th>\n",
       "      <td>4254</td>\n",
       "      <td>2172</td>\n",
       "      <td>8.376484e+09</td>\n",
       "      <td>2992724</td>\n",
       "      <td>0</td>\n",
       "    </tr>\n",
       "    <tr>\n",
       "      <th>3</th>\n",
       "      <td>3865</td>\n",
       "      <td>2068</td>\n",
       "      <td>9.132562e+09</td>\n",
       "      <td>2968028</td>\n",
       "      <td>0</td>\n",
       "    </tr>\n",
       "    <tr>\n",
       "      <th>4</th>\n",
       "      <td>4056</td>\n",
       "      <td>2025</td>\n",
       "      <td>1.070101e+10</td>\n",
       "      <td>2940880</td>\n",
       "      <td>0</td>\n",
       "    </tr>\n",
       "  </tbody>\n",
       "</table>\n",
       "</div>"
      ],
      "text/plain": [
       "   CO2 Emissions  Energy Usage           GDP  Population Total  cluster\n",
       "0           4294          1976  5.652325e+09           3033659        0\n",
       "1           4166          2172  7.464447e+09           3014579        0\n",
       "2           4254          2172  8.376484e+09           2992724        0\n",
       "3           3865          2068  9.132562e+09           2968028        0\n",
       "4           4056          2025  1.070101e+10           2940880        0"
      ]
     },
     "execution_count": 18,
     "metadata": {},
     "output_type": "execute_result"
    }
   ],
   "source": [
    "dfc.loc[:,'cluster']=clustercut\n",
    "dfc.head()"
   ]
  },
  {
   "cell_type": "markdown",
   "metadata": {},
   "source": [
    "<table align=\"left\">\n",
    "    <tr>\n",
    "        <td width=\"6%\">\n",
    "            <img src=\"question_icon.png\">\n",
    "        </td>\n",
    "        <td>\n",
    "            <div align=\"left\", style=\"font-size:120%\">\n",
    "                <font color=\"#21618C\">\n",
    "                    <b>14. Find the size of each cluster and plot the count plot for the cluster size.</b>\n",
    "                </font>\n",
    "            </div>\n",
    "        </td>\n",
    "    </tr>\n",
    "</table>"
   ]
  },
  {
   "cell_type": "code",
   "execution_count": 27,
   "metadata": {
    "scrolled": true
   },
   "outputs": [
    {
     "data": {
      "text/plain": [
       "0    687\n",
       "1    138\n",
       "2     97\n",
       "3     37\n",
       "Name: cluster, dtype: int64"
      ]
     },
     "execution_count": 27,
     "metadata": {},
     "output_type": "execute_result"
    }
   ],
   "source": [
    "dfc['cluster'].value_counts()"
   ]
  },
  {
   "cell_type": "code",
   "execution_count": 28,
   "metadata": {},
   "outputs": [
    {
     "data": {
      "image/png": "[encoded data removed]",
      "text/plain": [
       "<Figure size 432x288 with 1 Axes>"
      ]
     },
     "metadata": {
      "needs_background": "light"
     },
     "output_type": "display_data"
    }
   ],
   "source": [
    "dfc['cluster'].value_counts().plot(kind='bar')\n",
    "plt.show()"
   ]
  },
  {
   "cell_type": "markdown",
   "metadata": {},
   "source": [
    "<table align=\"left\">\n",
    "    <tr>\n",
    "        <td width=\"6%\">\n",
    "            <img src=\"question_icon.png\">\n",
    "        </td>\n",
    "        <td>\n",
    "            <div align=\"left\", style=\"font-size:120%\">\n",
    "                <font color=\"#21618C\">\n",
    "                    <b>15. Plot the scatterplot to visualize the clusters using 'CO2 Emissions' and 'Energy Usage'.</b>\n",
    "                </font>\n",
    "            </div>\n",
    "        </td>\n",
    "    </tr>\n",
    "</table>"
   ]
  },
  {
   "cell_type": "code",
   "execution_count": 31,
   "metadata": {},
   "outputs": [
    {
     "data": {
      "text/plain": [
       "<AxesSubplot:xlabel='CO2 Emissions', ylabel='Energy Usage'>"
      ]
     },
     "execution_count": 31,
     "metadata": {},
     "output_type": "execute_result"
    },
    {
     "data": {
      "image/png": "[encoded data removed]",
      "text/plain": [
       "<Figure size 1080x720 with 1 Axes>"
      ]
     },
     "metadata": {
      "needs_background": "light"
     },
     "output_type": "display_data"
    }
   ],
   "source": [
    "plt.figure(figsize=(15,10))\n",
    "sns.scatterplot(x='CO2 Emissions',y='Energy Usage',data=dfc,hue='cluster')"
   ]
  },
  {
   "cell_type": "markdown",
   "metadata": {},
   "source": [
    "<table align=\"left\">\n",
    "    <tr>\n",
    "        <td width=\"6%\">\n",
    "            <img src=\"question_icon.png\">\n",
    "        </td>\n",
    "        <td>\n",
    "            <div align=\"left\", style=\"font-size:120%\">\n",
    "                <font color=\"#21618C\">\n",
    "                    <b>16. Obtain the first 10 observations for 1st cluster and find its summary.</b>\n",
    "                </font>\n",
    "            </div>\n",
    "        </td>\n",
    "    </tr>\n",
    "</table>"
   ]
  },
  {
   "cell_type": "code",
   "execution_count": 35,
   "metadata": {
    "scrolled": true
   },
   "outputs": [
    {
     "data": {
      "text/html": [
       "<div>\n",
       "<style scoped>\n",
       "    .dataframe tbody tr th:only-of-type {\n",
       "        vertical-align: middle;\n",
       "    }\n",
       "\n",
       "    .dataframe tbody tr th {\n",
       "        vertical-align: top;\n",
       "    }\n",
       "\n",
       "    .dataframe thead th {\n",
       "        text-align: right;\n",
       "    }\n",
       "</style>\n",
       "<table border=\"1\" class=\"dataframe\">\n",
       "  <thead>\n",
       "    <tr style=\"text-align: right;\">\n",
       "      <th></th>\n",
       "      <th>CO2 Emissions</th>\n",
       "      <th>Energy Usage</th>\n",
       "      <th>GDP</th>\n",
       "      <th>Population Total</th>\n",
       "      <th>cluster</th>\n",
       "    </tr>\n",
       "  </thead>\n",
       "  <tbody>\n",
       "    <tr>\n",
       "      <th>0</th>\n",
       "      <td>4294</td>\n",
       "      <td>1976</td>\n",
       "      <td>5.652325e+09</td>\n",
       "      <td>3033659</td>\n",
       "      <td>0</td>\n",
       "    </tr>\n",
       "    <tr>\n",
       "      <th>1</th>\n",
       "      <td>4166</td>\n",
       "      <td>2172</td>\n",
       "      <td>7.464447e+09</td>\n",
       "      <td>3014579</td>\n",
       "      <td>0</td>\n",
       "    </tr>\n",
       "    <tr>\n",
       "      <th>2</th>\n",
       "      <td>4254</td>\n",
       "      <td>2172</td>\n",
       "      <td>8.376484e+09</td>\n",
       "      <td>2992724</td>\n",
       "      <td>0</td>\n",
       "    </tr>\n",
       "    <tr>\n",
       "      <th>3</th>\n",
       "      <td>3865</td>\n",
       "      <td>2068</td>\n",
       "      <td>9.132562e+09</td>\n",
       "      <td>2968028</td>\n",
       "      <td>0</td>\n",
       "    </tr>\n",
       "    <tr>\n",
       "      <th>4</th>\n",
       "      <td>4056</td>\n",
       "      <td>2025</td>\n",
       "      <td>1.070101e+10</td>\n",
       "      <td>2940880</td>\n",
       "      <td>0</td>\n",
       "    </tr>\n",
       "    <tr>\n",
       "      <th>5</th>\n",
       "      <td>4129</td>\n",
       "      <td>2061</td>\n",
       "      <td>1.288135e+10</td>\n",
       "      <td>2912559</td>\n",
       "      <td>0</td>\n",
       "    </tr>\n",
       "    <tr>\n",
       "      <th>6</th>\n",
       "      <td>3880</td>\n",
       "      <td>2068</td>\n",
       "      <td>1.204421e+10</td>\n",
       "      <td>2884303</td>\n",
       "      <td>0</td>\n",
       "    </tr>\n",
       "    <tr>\n",
       "      <th>7</th>\n",
       "      <td>4283</td>\n",
       "      <td>2059</td>\n",
       "      <td>1.192695e+10</td>\n",
       "      <td>2856673</td>\n",
       "      <td>0</td>\n",
       "    </tr>\n",
       "    <tr>\n",
       "      <th>18</th>\n",
       "      <td>9065</td>\n",
       "      <td>9004</td>\n",
       "      <td>1.418895e+10</td>\n",
       "      <td>15421075</td>\n",
       "      <td>0</td>\n",
       "    </tr>\n",
       "    <tr>\n",
       "      <th>19</th>\n",
       "      <td>18793</td>\n",
       "      <td>9676</td>\n",
       "      <td>1.964086e+10</td>\n",
       "      <td>15976715</td>\n",
       "      <td>0</td>\n",
       "    </tr>\n",
       "  </tbody>\n",
       "</table>\n",
       "</div>"
      ],
      "text/plain": [
       "    CO2 Emissions  Energy Usage           GDP  Population Total  cluster\n",
       "0            4294          1976  5.652325e+09           3033659        0\n",
       "1            4166          2172  7.464447e+09           3014579        0\n",
       "2            4254          2172  8.376484e+09           2992724        0\n",
       "3            3865          2068  9.132562e+09           2968028        0\n",
       "4            4056          2025  1.070101e+10           2940880        0\n",
       "5            4129          2061  1.288135e+10           2912559        0\n",
       "6            3880          2068  1.204421e+10           2884303        0\n",
       "7            4283          2059  1.192695e+10           2856673        0\n",
       "18           9065          9004  1.418895e+10          15421075        0\n",
       "19          18793          9676  1.964086e+10          15976715        0"
      ]
     },
     "execution_count": 35,
     "metadata": {},
     "output_type": "execute_result"
    }
   ],
   "source": [
    "dfc[dfc['cluster']==0].head(10)"
   ]
  },
  {
   "cell_type": "code",
   "execution_count": 36,
   "metadata": {},
   "outputs": [
    {
     "data": {
      "text/html": [
       "<div>\n",
       "<style scoped>\n",
       "    .dataframe tbody tr th:only-of-type {\n",
       "        vertical-align: middle;\n",
       "    }\n",
       "\n",
       "    .dataframe tbody tr th {\n",
       "        vertical-align: top;\n",
       "    }\n",
       "\n",
       "    .dataframe thead th {\n",
       "        text-align: right;\n",
       "    }\n",
       "</style>\n",
       "<table border=\"1\" class=\"dataframe\">\n",
       "  <thead>\n",
       "    <tr style=\"text-align: right;\">\n",
       "      <th></th>\n",
       "      <th>CO2 Emissions</th>\n",
       "      <th>Energy Usage</th>\n",
       "      <th>GDP</th>\n",
       "      <th>Population Total</th>\n",
       "      <th>cluster</th>\n",
       "    </tr>\n",
       "  </thead>\n",
       "  <tbody>\n",
       "    <tr>\n",
       "      <th>count</th>\n",
       "      <td>687.000000</td>\n",
       "      <td>687.000000</td>\n",
       "      <td>6.870000e+02</td>\n",
       "      <td>6.870000e+02</td>\n",
       "      <td>687.0</td>\n",
       "    </tr>\n",
       "    <tr>\n",
       "      <th>mean</th>\n",
       "      <td>7512.620087</td>\n",
       "      <td>3809.045124</td>\n",
       "      <td>1.333701e+10</td>\n",
       "      <td>5.111782e+06</td>\n",
       "      <td>0.0</td>\n",
       "    </tr>\n",
       "    <tr>\n",
       "      <th>std</th>\n",
       "      <td>8397.723559</td>\n",
       "      <td>3566.686104</td>\n",
       "      <td>1.457612e+10</td>\n",
       "      <td>6.124091e+06</td>\n",
       "      <td>0.0</td>\n",
       "    </tr>\n",
       "    <tr>\n",
       "      <th>min</th>\n",
       "      <td>48.000000</td>\n",
       "      <td>30.000000</td>\n",
       "      <td>1.232585e+08</td>\n",
       "      <td>6.966000e+04</td>\n",
       "      <td>0.0</td>\n",
       "    </tr>\n",
       "    <tr>\n",
       "      <th>25%</th>\n",
       "      <td>1032.000000</td>\n",
       "      <td>401.000000</td>\n",
       "      <td>2.117754e+09</td>\n",
       "      <td>6.166900e+05</td>\n",
       "      <td>0.0</td>\n",
       "    </tr>\n",
       "    <tr>\n",
       "      <th>50%</th>\n",
       "      <td>4360.000000</td>\n",
       "      <td>3022.000000</td>\n",
       "      <td>8.734651e+09</td>\n",
       "      <td>3.002911e+06</td>\n",
       "      <td>0.0</td>\n",
       "    </tr>\n",
       "    <tr>\n",
       "      <th>75%</th>\n",
       "      <td>11393.500000</td>\n",
       "      <td>6583.500000</td>\n",
       "      <td>1.865577e+10</td>\n",
       "      <td>6.665144e+06</td>\n",
       "      <td>0.0</td>\n",
       "    </tr>\n",
       "    <tr>\n",
       "      <th>max</th>\n",
       "      <td>39167.000000</td>\n",
       "      <td>19585.000000</td>\n",
       "      <td>8.417809e+10</td>\n",
       "      <td>2.747438e+07</td>\n",
       "      <td>0.0</td>\n",
       "    </tr>\n",
       "  </tbody>\n",
       "</table>\n",
       "</div>"
      ],
      "text/plain": [
       "       CO2 Emissions  Energy Usage           GDP  Population Total  cluster\n",
       "count     687.000000    687.000000  6.870000e+02      6.870000e+02    687.0\n",
       "mean     7512.620087   3809.045124  1.333701e+10      5.111782e+06      0.0\n",
       "std      8397.723559   3566.686104  1.457612e+10      6.124091e+06      0.0\n",
       "min        48.000000     30.000000  1.232585e+08      6.966000e+04      0.0\n",
       "25%      1032.000000    401.000000  2.117754e+09      6.166900e+05      0.0\n",
       "50%      4360.000000   3022.000000  8.734651e+09      3.002911e+06      0.0\n",
       "75%     11393.500000   6583.500000  1.865577e+10      6.665144e+06      0.0\n",
       "max     39167.000000  19585.000000  8.417809e+10      2.747438e+07      0.0"
      ]
     },
     "execution_count": 36,
     "metadata": {},
     "output_type": "execute_result"
    }
   ],
   "source": [
    "dfc[dfc['cluster']==0].describe()"
   ]
  },
  {
   "cell_type": "markdown",
   "metadata": {},
   "source": [
    "<table align=\"left\">\n",
    "    <tr>\n",
    "        <td width=\"6%\">\n",
    "            <img src=\"question_icon.png\">\n",
    "        </td>\n",
    "        <td>\n",
    "            <div align=\"left\", style=\"font-size:120%\">\n",
    "                <font color=\"#21618C\">\n",
    "                    <b>17. Obtain the first 10 observations for the 2nd cluster and find its summary.</b>\n",
    "                </font>\n",
    "            </div>\n",
    "        </td>\n",
    "    </tr>\n",
    "</table>"
   ]
  },
  {
   "cell_type": "code",
   "execution_count": 37,
   "metadata": {
    "scrolled": true
   },
   "outputs": [
    {
     "data": {
      "text/html": [
       "<div>\n",
       "<style scoped>\n",
       "    .dataframe tbody tr th:only-of-type {\n",
       "        vertical-align: middle;\n",
       "    }\n",
       "\n",
       "    .dataframe tbody tr th {\n",
       "        vertical-align: top;\n",
       "    }\n",
       "\n",
       "    .dataframe thead th {\n",
       "        text-align: right;\n",
       "    }\n",
       "</style>\n",
       "<table border=\"1\" class=\"dataframe\">\n",
       "  <thead>\n",
       "    <tr style=\"text-align: right;\">\n",
       "      <th></th>\n",
       "      <th>CO2 Emissions</th>\n",
       "      <th>Energy Usage</th>\n",
       "      <th>GDP</th>\n",
       "      <th>Population Total</th>\n",
       "      <th>cluster</th>\n",
       "    </tr>\n",
       "  </thead>\n",
       "  <tbody>\n",
       "    <tr>\n",
       "      <th>8</th>\n",
       "      <td>92533</td>\n",
       "      <td>30698</td>\n",
       "      <td>6.786383e+10</td>\n",
       "      <td>33003442</td>\n",
       "      <td>1</td>\n",
       "    </tr>\n",
       "    <tr>\n",
       "      <th>9</th>\n",
       "      <td>89493</td>\n",
       "      <td>30974</td>\n",
       "      <td>8.532500e+10</td>\n",
       "      <td>33461345</td>\n",
       "      <td>1</td>\n",
       "    </tr>\n",
       "    <tr>\n",
       "      <th>10</th>\n",
       "      <td>107128</td>\n",
       "      <td>32335</td>\n",
       "      <td>1.030000e+11</td>\n",
       "      <td>33960903</td>\n",
       "      <td>1</td>\n",
       "    </tr>\n",
       "    <tr>\n",
       "      <th>11</th>\n",
       "      <td>103963</td>\n",
       "      <td>34658</td>\n",
       "      <td>1.170000e+11</td>\n",
       "      <td>34507214</td>\n",
       "      <td>1</td>\n",
       "    </tr>\n",
       "    <tr>\n",
       "      <th>12</th>\n",
       "      <td>112339</td>\n",
       "      <td>36793</td>\n",
       "      <td>1.350000e+11</td>\n",
       "      <td>35097043</td>\n",
       "      <td>1</td>\n",
       "    </tr>\n",
       "    <tr>\n",
       "      <th>13</th>\n",
       "      <td>114619</td>\n",
       "      <td>37425</td>\n",
       "      <td>1.710000e+11</td>\n",
       "      <td>35725377</td>\n",
       "      <td>1</td>\n",
       "    </tr>\n",
       "    <tr>\n",
       "      <th>14</th>\n",
       "      <td>124586</td>\n",
       "      <td>40823</td>\n",
       "      <td>1.370000e+11</td>\n",
       "      <td>36383302</td>\n",
       "      <td>1</td>\n",
       "    </tr>\n",
       "    <tr>\n",
       "      <th>15</th>\n",
       "      <td>123475</td>\n",
       "      <td>40105</td>\n",
       "      <td>1.610000e+11</td>\n",
       "      <td>37062820</td>\n",
       "      <td>1</td>\n",
       "    </tr>\n",
       "    <tr>\n",
       "      <th>16</th>\n",
       "      <td>123475</td>\n",
       "      <td>41852</td>\n",
       "      <td>1.990000e+11</td>\n",
       "      <td>37762962</td>\n",
       "      <td>1</td>\n",
       "    </tr>\n",
       "    <tr>\n",
       "      <th>17</th>\n",
       "      <td>123475</td>\n",
       "      <td>41852</td>\n",
       "      <td>2.040000e+11</td>\n",
       "      <td>38481705</td>\n",
       "      <td>1</td>\n",
       "    </tr>\n",
       "  </tbody>\n",
       "</table>\n",
       "</div>"
      ],
      "text/plain": [
       "    CO2 Emissions  Energy Usage           GDP  Population Total  cluster\n",
       "8           92533         30698  6.786383e+10          33003442        1\n",
       "9           89493         30974  8.532500e+10          33461345        1\n",
       "10         107128         32335  1.030000e+11          33960903        1\n",
       "11         103963         34658  1.170000e+11          34507214        1\n",
       "12         112339         36793  1.350000e+11          35097043        1\n",
       "13         114619         37425  1.710000e+11          35725377        1\n",
       "14         124586         40823  1.370000e+11          36383302        1\n",
       "15         123475         40105  1.610000e+11          37062820        1\n",
       "16         123475         41852  1.990000e+11          37762962        1\n",
       "17         123475         41852  2.040000e+11          38481705        1"
      ]
     },
     "execution_count": 37,
     "metadata": {},
     "output_type": "execute_result"
    }
   ],
   "source": [
    "dfc[dfc['cluster']==1].head(10)"
   ]
  },
  {
   "cell_type": "code",
   "execution_count": 38,
   "metadata": {},
   "outputs": [
    {
     "data": {
      "text/html": [
       "<div>\n",
       "<style scoped>\n",
       "    .dataframe tbody tr th:only-of-type {\n",
       "        vertical-align: middle;\n",
       "    }\n",
       "\n",
       "    .dataframe tbody tr th {\n",
       "        vertical-align: top;\n",
       "    }\n",
       "\n",
       "    .dataframe thead th {\n",
       "        text-align: right;\n",
       "    }\n",
       "</style>\n",
       "<table border=\"1\" class=\"dataframe\">\n",
       "  <thead>\n",
       "    <tr style=\"text-align: right;\">\n",
       "      <th></th>\n",
       "      <th>CO2 Emissions</th>\n",
       "      <th>Energy Usage</th>\n",
       "      <th>GDP</th>\n",
       "      <th>Population Total</th>\n",
       "      <th>cluster</th>\n",
       "    </tr>\n",
       "  </thead>\n",
       "  <tbody>\n",
       "    <tr>\n",
       "      <th>count</th>\n",
       "      <td>138.000000</td>\n",
       "      <td>138.000000</td>\n",
       "      <td>1.380000e+02</td>\n",
       "      <td>1.380000e+02</td>\n",
       "      <td>138.0</td>\n",
       "    </tr>\n",
       "    <tr>\n",
       "      <th>mean</th>\n",
       "      <td>87044.021739</td>\n",
       "      <td>36929.007246</td>\n",
       "      <td>2.051115e+11</td>\n",
       "      <td>2.070226e+07</td>\n",
       "      <td>1.0</td>\n",
       "    </tr>\n",
       "    <tr>\n",
       "      <th>std</th>\n",
       "      <td>36944.059143</td>\n",
       "      <td>14135.441328</td>\n",
       "      <td>1.040479e+11</td>\n",
       "      <td>1.308711e+07</td>\n",
       "      <td>0.0</td>\n",
       "    </tr>\n",
       "    <tr>\n",
       "      <th>min</th>\n",
       "      <td>13520.000000</td>\n",
       "      <td>13248.000000</td>\n",
       "      <td>1.430751e+10</td>\n",
       "      <td>1.910902e+06</td>\n",
       "      <td>1.0</td>\n",
       "    </tr>\n",
       "    <tr>\n",
       "      <th>25%</th>\n",
       "      <td>61844.000000</td>\n",
       "      <td>28627.500000</td>\n",
       "      <td>1.327500e+11</td>\n",
       "      <td>8.309822e+06</td>\n",
       "      <td>1.0</td>\n",
       "    </tr>\n",
       "    <tr>\n",
       "      <th>50%</th>\n",
       "      <td>75680.000000</td>\n",
       "      <td>33510.000000</td>\n",
       "      <td>1.925000e+11</td>\n",
       "      <td>2.030718e+07</td>\n",
       "      <td>1.0</td>\n",
       "    </tr>\n",
       "    <tr>\n",
       "      <th>75%</th>\n",
       "      <td>112226.250000</td>\n",
       "      <td>44634.000000</td>\n",
       "      <td>2.610000e+11</td>\n",
       "      <td>3.088313e+07</td>\n",
       "      <td>1.0</td>\n",
       "    </tr>\n",
       "    <tr>\n",
       "      <th>max</th>\n",
       "      <td>181630.000000</td>\n",
       "      <td>76075.000000</td>\n",
       "      <td>4.210000e+11</td>\n",
       "      <td>4.770443e+07</td>\n",
       "      <td>1.0</td>\n",
       "    </tr>\n",
       "  </tbody>\n",
       "</table>\n",
       "</div>"
      ],
      "text/plain": [
       "       CO2 Emissions  Energy Usage           GDP  Population Total  cluster\n",
       "count     138.000000    138.000000  1.380000e+02      1.380000e+02    138.0\n",
       "mean    87044.021739  36929.007246  2.051115e+11      2.070226e+07      1.0\n",
       "std     36944.059143  14135.441328  1.040479e+11      1.308711e+07      0.0\n",
       "min     13520.000000  13248.000000  1.430751e+10      1.910902e+06      1.0\n",
       "25%     61844.000000  28627.500000  1.327500e+11      8.309822e+06      1.0\n",
       "50%     75680.000000  33510.000000  1.925000e+11      2.030718e+07      1.0\n",
       "75%    112226.250000  44634.000000  2.610000e+11      3.088313e+07      1.0\n",
       "max    181630.000000  76075.000000  4.210000e+11      4.770443e+07      1.0"
      ]
     },
     "execution_count": 38,
     "metadata": {},
     "output_type": "execute_result"
    }
   ],
   "source": [
    "dfc[dfc['cluster']==1].describe()"
   ]
  },
  {
   "cell_type": "markdown",
   "metadata": {},
   "source": [
    "<a id=\"DBSCAN\"></a>\n",
    "## 3. DBSCAN"
   ]
  },
  {
   "cell_type": "markdown",
   "metadata": {},
   "source": [
    "<table align=\"left\">\n",
    "    <tr>\n",
    "        <td width=\"6%\">\n",
    "            <img src=\"question_icon.png\">\n",
    "        </td>\n",
    "        <td>\n",
    "            <div align=\"left\", style=\"font-size:120%\">\n",
    "                <font color=\"#21618C\">\n",
    "                    <b>18. Perform DBSCAN for the data given using 0.7 as epsilon and 9 minimum samples. Display the unique number of clusters.</b>\n",
    "                </font>\n",
    "            </div>\n",
    "        </td>\n",
    "    </tr>\n",
    "</table>"
   ]
  },
  {
   "cell_type": "code",
   "execution_count": 40,
   "metadata": {},
   "outputs": [
    {
     "data": {
      "text/plain": [
       " 0    1198\n",
       "-1      45\n",
       "dtype: int64"
      ]
     },
     "execution_count": 40,
     "metadata": {},
     "output_type": "execute_result"
    }
   ],
   "source": [
    "from sklearn.cluster import DBSCAN\n",
    "ss=StandardScaler()\n",
    "dfs=ss.fit_transform(df)\n",
    "\n",
    "dbscan=DBSCAN(eps=0.7,min_samples=9)\n",
    "dbscan.fit(dfs)\n",
    "\n",
    "pd.Series(dbscan.labels_).value_counts()"
   ]
  },
  {
   "cell_type": "markdown",
   "metadata": {},
   "source": [
    "<table align=\"left\">\n",
    "    <tr>\n",
    "        <td width=\"6%\">\n",
    "            <img src=\"question_icon.png\">\n",
    "        </td>\n",
    "        <td>\n",
    "            <div align=\"left\", style=\"font-size:120%\">\n",
    "                <font color=\"#21618C\">\n",
    "                    <b>19. Check for the size of each cluster and plot the count plot for the cluster size.</b>\n",
    "                </font>\n",
    "            </div>\n",
    "        </td>\n",
    "    </tr>\n",
    "</table>"
   ]
  },
  {
   "cell_type": "code",
   "execution_count": 42,
   "metadata": {},
   "outputs": [
    {
     "data": {
      "image/png": "[encoded data removed]",
      "text/plain": [
       "<Figure size 432x288 with 1 Axes>"
      ]
     },
     "metadata": {
      "needs_background": "light"
     },
     "output_type": "display_data"
    }
   ],
   "source": [
    "pd.Series(dbscan.labels_).value_counts().plot.bar()\n",
    "plt.show()"
   ]
  },
  {
   "cell_type": "markdown",
   "metadata": {},
   "source": [
    "<table align=\"left\">\n",
    "    <tr>\n",
    "        <td width=\"6%\">\n",
    "            <img src=\"question_icon.png\">\n",
    "        </td>\n",
    "        <td>\n",
    "            <div align=\"left\", style=\"font-size:120%\">\n",
    "                <font color=\"#21618C\">\n",
    "                    <b>20. Describe the outliers identified by the DBSCAN algorithm in the previous question.</b>\n",
    "                </font>\n",
    "            </div>\n",
    "        </td>\n",
    "    </tr>\n",
    "</table>"
   ]
  },
  {
   "cell_type": "code",
   "execution_count": 43,
   "metadata": {},
   "outputs": [
    {
     "data": {
      "text/html": [
       "<div>\n",
       "<style scoped>\n",
       "    .dataframe tbody tr th:only-of-type {\n",
       "        vertical-align: middle;\n",
       "    }\n",
       "\n",
       "    .dataframe tbody tr th {\n",
       "        vertical-align: top;\n",
       "    }\n",
       "\n",
       "    .dataframe thead th {\n",
       "        text-align: right;\n",
       "    }\n",
       "</style>\n",
       "<table border=\"1\" class=\"dataframe\">\n",
       "  <thead>\n",
       "    <tr style=\"text-align: right;\">\n",
       "      <th></th>\n",
       "      <th>CO2 Emissions</th>\n",
       "      <th>Energy Usage</th>\n",
       "      <th>GDP</th>\n",
       "      <th>Population Total</th>\n",
       "      <th>cluster</th>\n",
       "    </tr>\n",
       "  </thead>\n",
       "  <tbody>\n",
       "    <tr>\n",
       "      <th>count</th>\n",
       "      <td>4.500000e+01</td>\n",
       "      <td>4.500000e+01</td>\n",
       "      <td>4.500000e+01</td>\n",
       "      <td>4.500000e+01</td>\n",
       "      <td>45.0</td>\n",
       "    </tr>\n",
       "    <tr>\n",
       "      <th>mean</th>\n",
       "      <td>3.263231e+06</td>\n",
       "      <td>1.181653e+06</td>\n",
       "      <td>4.945600e+12</td>\n",
       "      <td>6.680892e+08</td>\n",
       "      <td>-1.0</td>\n",
       "    </tr>\n",
       "    <tr>\n",
       "      <th>std</th>\n",
       "      <td>2.495366e+06</td>\n",
       "      <td>8.234717e+05</td>\n",
       "      <td>4.990569e+12</td>\n",
       "      <td>5.232036e+08</td>\n",
       "      <td>0.0</td>\n",
       "    </tr>\n",
       "    <tr>\n",
       "      <th>min</th>\n",
       "      <td>1.100650e+06</td>\n",
       "      <td>4.515010e+05</td>\n",
       "      <td>4.770000e+11</td>\n",
       "      <td>1.274505e+08</td>\n",
       "      <td>-1.0</td>\n",
       "    </tr>\n",
       "    <tr>\n",
       "      <th>25%</th>\n",
       "      <td>1.281914e+06</td>\n",
       "      <td>5.198070e+05</td>\n",
       "      <td>1.240000e+12</td>\n",
       "      <td>1.423855e+08</td>\n",
       "      <td>-1.0</td>\n",
       "    </tr>\n",
       "    <tr>\n",
       "      <th>50%</th>\n",
       "      <td>1.740776e+06</td>\n",
       "      <td>6.983600e+05</td>\n",
       "      <td>2.710000e+12</td>\n",
       "      <td>3.115826e+08</td>\n",
       "      <td>-1.0</td>\n",
       "    </tr>\n",
       "    <tr>\n",
       "      <th>75%</th>\n",
       "      <td>5.656839e+06</td>\n",
       "      <td>2.132446e+06</td>\n",
       "      <td>5.930000e+12</td>\n",
       "      <td>1.190138e+09</td>\n",
       "      <td>-1.0</td>\n",
       "    </tr>\n",
       "    <tr>\n",
       "      <th>max</th>\n",
       "      <td>8.286892e+06</td>\n",
       "      <td>2.727728e+06</td>\n",
       "      <td>1.620000e+13</td>\n",
       "      <td>1.350695e+09</td>\n",
       "      <td>-1.0</td>\n",
       "    </tr>\n",
       "  </tbody>\n",
       "</table>\n",
       "</div>"
      ],
      "text/plain": [
       "       CO2 Emissions  Energy Usage           GDP  Population Total  cluster\n",
       "count   4.500000e+01  4.500000e+01  4.500000e+01      4.500000e+01     45.0\n",
       "mean    3.263231e+06  1.181653e+06  4.945600e+12      6.680892e+08     -1.0\n",
       "std     2.495366e+06  8.234717e+05  4.990569e+12      5.232036e+08      0.0\n",
       "min     1.100650e+06  4.515010e+05  4.770000e+11      1.274505e+08     -1.0\n",
       "25%     1.281914e+06  5.198070e+05  1.240000e+12      1.423855e+08     -1.0\n",
       "50%     1.740776e+06  6.983600e+05  2.710000e+12      3.115826e+08     -1.0\n",
       "75%     5.656839e+06  2.132446e+06  5.930000e+12      1.190138e+09     -1.0\n",
       "max     8.286892e+06  2.727728e+06  1.620000e+13      1.350695e+09     -1.0"
      ]
     },
     "execution_count": 43,
     "metadata": {},
     "output_type": "execute_result"
    }
   ],
   "source": [
    "labels=pd.Series(dbscan.labels_)\n",
    "df['cluster']=labels\n",
    "df_out=df[df['cluster']==-1]\n",
    "df_out.describe()"
   ]
  },
  {
   "cell_type": "code",
   "execution_count": null,
   "metadata": {},
   "outputs": [],
   "source": []
  }
 ],
 "metadata": {
  "kernelspec": {
   "display_name": "Python 3 (ipykernel)",
   "language": "python",
   "name": "python3"
  },
  "language_info": {
   "codemirror_mode": {
    "name": "ipython",
    "version": 3
   },
   "file_extension": ".py",
   "mimetype": "text/x-python",
   "name": "python",
   "nbconvert_exporter": "python",
   "pygments_lexer": "ipython3",
   "version": "3.9.7"
  }
 },
 "nbformat": 4,
 "nbformat_minor": 2
}
