{
 "cells": [
  {
   "cell_type": "markdown",
   "metadata": {},
   "source": [
    "<table align=\"center\" width=100%>\n",
    "    <tr>\n",
    "        <td width=\"15%\">\n",
    "            <img src=\"GL-2.png\">\n",
    "            <img src=\"in_class.png\">\n",
    "        </td>\n",
    "        <td>\n",
    "            <div align=\"center\">\n",
    "                <font color=\"#21618C\" size=8px>\n",
    "                    <b> Inclass - Lab <br>(Day 3)\n",
    "                    </b>\n",
    "                </font>\n",
    "            </div>\n",
    "        </td>\n",
    "    </tr>\n",
    "</table>"
   ]
  },
  {
   "cell_type": "markdown",
   "metadata": {},
   "source": [
    "### About the dataset (Rain prediction data)\n",
    "\n",
    "The dataset consists of various factors like temperature, humidity, a wind speed that are important in predicting the rainfall in the Indian subcontinent. \n",
    "\n",
    "**Temperature_min**: Minimum temperature for the day\n",
    "\n",
    "**Temperature_max**: Maximum temperature for the day\n",
    "\n",
    "**WindSpeedAt3am**: Today's speed of the wind at 3 am \n",
    "\n",
    "**WindSpeedAt10am**: Today's speed of the wind at 10 am\n",
    "\n",
    "**WindSpeedAt6pm**: Today's speed of the wind at 6 pm \n",
    "\n",
    "**HumidityLevelAt10am**: Today's humidity level at 10 am\n",
    "\n",
    "**HumidityAt6pm**: Today's humidity level at 6 pm\n",
    "\n",
    "**PressureAt10am**: Today's atmospheric pressure at 10 am\n",
    "\n",
    "**PressureAt6pm**: Today's atmospheric pressure at 6 pm\n",
    "\n",
    "**TemperatureAt10am**: Today's temperature at 10 am\n",
    "\n",
    "**TemperatureAt6pm**: Today's temperature at 6 pm\n",
    "\n",
    "**WillRainTomorrow?**: Will there be rain tomorrow? (Yes or No) (target/dependent variable)\n",
    "\n",
    "Use different dimension reduction techniques to transform the dataset into the lower dimension."
   ]
  },
  {
   "cell_type": "markdown",
   "metadata": {},
   "source": [
    "## Table of Content\n",
    "\n",
    "1. **[Exploratory Data Analysis](#eda)**\n",
    "2. **[Principal Component Analysis (PCA)](#pca)**\n",
    "3. **[Linear Discriminant Analysis (LDA)](#lda)**"
   ]
  },
  {
   "cell_type": "markdown",
   "metadata": {},
   "source": [
    "**Import the required libraries**"
   ]
  },
  {
   "cell_type": "code",
   "execution_count": 1,
   "metadata": {},
   "outputs": [],
   "source": [
    "import pandas as pd\n",
    "import numpy as np\n",
    "import matplotlib.pyplot as plt\n",
    "import seaborn as sns\n"
   ]
  },
  {
   "cell_type": "markdown",
   "metadata": {},
   "source": [
    "#### Load the csv file"
   ]
  },
  {
   "cell_type": "code",
   "execution_count": 2,
   "metadata": {
    "scrolled": true
   },
   "outputs": [
    {
     "data": {
      "text/html": [
       "<div>\n",
       "<style scoped>\n",
       "    .dataframe tbody tr th:only-of-type {\n",
       "        vertical-align: middle;\n",
       "    }\n",
       "\n",
       "    .dataframe tbody tr th {\n",
       "        vertical-align: top;\n",
       "    }\n",
       "\n",
       "    .dataframe thead th {\n",
       "        text-align: right;\n",
       "    }\n",
       "</style>\n",
       "<table border=\"1\" class=\"dataframe\">\n",
       "  <thead>\n",
       "    <tr style=\"text-align: right;\">\n",
       "      <th></th>\n",
       "      <th>Temperature_min</th>\n",
       "      <th>Temperature_max</th>\n",
       "      <th>WindSpeedAt3am</th>\n",
       "      <th>WindSpeedAt10am</th>\n",
       "      <th>WindSpeedAt6pm</th>\n",
       "      <th>HumidityLevelAt10am</th>\n",
       "      <th>HumidityAt6pm</th>\n",
       "      <th>PressureAt10am</th>\n",
       "      <th>PressureAt6pm</th>\n",
       "      <th>TemperatureAt10am</th>\n",
       "      <th>TemperatureAt6pm</th>\n",
       "      <th>WillRainTomorrow?</th>\n",
       "    </tr>\n",
       "  </thead>\n",
       "  <tbody>\n",
       "    <tr>\n",
       "      <th>0</th>\n",
       "      <td>20.3</td>\n",
       "      <td>30.7</td>\n",
       "      <td>32</td>\n",
       "      <td>6</td>\n",
       "      <td>17</td>\n",
       "      <td>110</td>\n",
       "      <td>72</td>\n",
       "      <td>1025.2</td>\n",
       "      <td>1015.4</td>\n",
       "      <td>26.6</td>\n",
       "      <td>40.4</td>\n",
       "      <td>No</td>\n",
       "    </tr>\n",
       "    <tr>\n",
       "      <th>1</th>\n",
       "      <td>30.0</td>\n",
       "      <td>33.3</td>\n",
       "      <td>33</td>\n",
       "      <td>10</td>\n",
       "      <td>20</td>\n",
       "      <td>70</td>\n",
       "      <td>35</td>\n",
       "      <td>1032.6</td>\n",
       "      <td>1035.4</td>\n",
       "      <td>26.6</td>\n",
       "      <td>39.3</td>\n",
       "      <td>No</td>\n",
       "    </tr>\n",
       "    <tr>\n",
       "      <th>2</th>\n",
       "      <td>23.5</td>\n",
       "      <td>26.9</td>\n",
       "      <td>24</td>\n",
       "      <td>14</td>\n",
       "      <td>20</td>\n",
       "      <td>98</td>\n",
       "      <td>63</td>\n",
       "      <td>1025.5</td>\n",
       "      <td>1026.0</td>\n",
       "      <td>29.8</td>\n",
       "      <td>34.6</td>\n",
       "      <td>Yes</td>\n",
       "    </tr>\n",
       "    <tr>\n",
       "      <th>3</th>\n",
       "      <td>25.5</td>\n",
       "      <td>26.9</td>\n",
       "      <td>45</td>\n",
       "      <td>20</td>\n",
       "      <td>30</td>\n",
       "      <td>82</td>\n",
       "      <td>59</td>\n",
       "      <td>1019.3</td>\n",
       "      <td>1016.9</td>\n",
       "      <td>24.2</td>\n",
       "      <td>30.8</td>\n",
       "      <td>No</td>\n",
       "    </tr>\n",
       "    <tr>\n",
       "      <th>4</th>\n",
       "      <td>33.5</td>\n",
       "      <td>39.3</td>\n",
       "      <td>33</td>\n",
       "      <td>4</td>\n",
       "      <td>12</td>\n",
       "      <td>94</td>\n",
       "      <td>49</td>\n",
       "      <td>1027.3</td>\n",
       "      <td>1022.2</td>\n",
       "      <td>33.6</td>\n",
       "      <td>43.6</td>\n",
       "      <td>No</td>\n",
       "    </tr>\n",
       "  </tbody>\n",
       "</table>\n",
       "</div>"
      ],
      "text/plain": [
       "   Temperature_min  Temperature_max  WindSpeedAt3am  WindSpeedAt10am  \\\n",
       "0             20.3             30.7              32                6   \n",
       "1             30.0             33.3              33               10   \n",
       "2             23.5             26.9              24               14   \n",
       "3             25.5             26.9              45               20   \n",
       "4             33.5             39.3              33                4   \n",
       "\n",
       "   WindSpeedAt6pm  HumidityLevelAt10am  HumidityAt6pm  PressureAt10am  \\\n",
       "0              17                  110             72          1025.2   \n",
       "1              20                   70             35          1032.6   \n",
       "2              20                   98             63          1025.5   \n",
       "3              30                   82             59          1019.3   \n",
       "4              12                   94             49          1027.3   \n",
       "\n",
       "   PressureAt6pm  TemperatureAt10am  TemperatureAt6pm WillRainTomorrow?  \n",
       "0         1015.4               26.6              40.4                No  \n",
       "1         1035.4               26.6              39.3                No  \n",
       "2         1026.0               29.8              34.6               Yes  \n",
       "3         1016.9               24.2              30.8                No  \n",
       "4         1022.2               33.6              43.6                No  "
      ]
     },
     "execution_count": 2,
     "metadata": {},
     "output_type": "execute_result"
    }
   ],
   "source": [
    "df=pd.read_csv(\"Ind_Climate_RainPred.csv\")\n",
    "df.head()"
   ]
  },
  {
   "cell_type": "code",
   "execution_count": 4,
   "metadata": {},
   "outputs": [
    {
     "name": "stdout",
     "output_type": "stream",
     "text": [
      "<class 'pandas.core.frame.DataFrame'>\n",
      "RangeIndex: 10464 entries, 0 to 10463\n",
      "Data columns (total 12 columns):\n",
      " #   Column               Non-Null Count  Dtype  \n",
      "---  ------               --------------  -----  \n",
      " 0   Temperature_min      10464 non-null  float64\n",
      " 1   Temperature_max      10464 non-null  float64\n",
      " 2   WindSpeedAt3am       10464 non-null  int64  \n",
      " 3   WindSpeedAt10am      10464 non-null  int64  \n",
      " 4   WindSpeedAt6pm       10464 non-null  int64  \n",
      " 5   HumidityLevelAt10am  10464 non-null  int64  \n",
      " 6   HumidityAt6pm        10464 non-null  int64  \n",
      " 7   PressureAt10am       10464 non-null  float64\n",
      " 8   PressureAt6pm        10464 non-null  float64\n",
      " 9   TemperatureAt10am    10464 non-null  float64\n",
      " 10  TemperatureAt6pm     10464 non-null  float64\n",
      " 11  WillRainTomorrow?    10464 non-null  object \n",
      "dtypes: float64(6), int64(5), object(1)\n",
      "memory usage: 981.1+ KB\n"
     ]
    }
   ],
   "source": [
    "df.info()"
   ]
  },
  {
   "cell_type": "markdown",
   "metadata": {},
   "source": [
    "\n",
    "### Let's begin with some hands-on practice exercises"
   ]
  },
  {
   "cell_type": "markdown",
   "metadata": {},
   "source": [
    "<a id=\"eda\"> </a>\n",
    "## 1. Exploratory Data Analysis"
   ]
  },
  {
   "cell_type": "markdown",
   "metadata": {
    "collapsed": true
   },
   "source": [
    "<table align=\"left\">\n",
    "    <tr>\n",
    "        <td width=\"6%\">\n",
    "            <img src=\"question_icon.png\">\n",
    "        </td>\n",
    "        <td>\n",
    "            <div align=\"left\", style=\"font-size:120%\">\n",
    "                <font color=\"#21618C\">\n",
    "                    <b>1. Check the datatype of all the variables in the dataset. If the datatype is not as per the definition, do the needful.</b>\n",
    "                </font>\n",
    "            </div>\n",
    "        </td>\n",
    "    </tr>\n",
    "</table>"
   ]
  },
  {
   "cell_type": "code",
   "execution_count": 3,
   "metadata": {
    "scrolled": true
   },
   "outputs": [
    {
     "data": {
      "text/plain": [
       "Temperature_min        float64\n",
       "Temperature_max        float64\n",
       "WindSpeedAt3am           int64\n",
       "WindSpeedAt10am          int64\n",
       "WindSpeedAt6pm           int64\n",
       "HumidityLevelAt10am      int64\n",
       "HumidityAt6pm            int64\n",
       "PressureAt10am         float64\n",
       "PressureAt6pm          float64\n",
       "TemperatureAt10am      float64\n",
       "TemperatureAt6pm       float64\n",
       "WillRainTomorrow?       object\n",
       "dtype: object"
      ]
     },
     "execution_count": 3,
     "metadata": {},
     "output_type": "execute_result"
    }
   ],
   "source": [
    "df.dtypes"
   ]
  },
  {
   "cell_type": "code",
   "execution_count": null,
   "metadata": {},
   "outputs": [],
   "source": []
  },
  {
   "cell_type": "markdown",
   "metadata": {
    "collapsed": true
   },
   "source": [
    "<table align=\"left\">\n",
    "    <tr>\n",
    "        <td width=\"6%\">\n",
    "            <img src=\"question_icon.png\">\n",
    "        </td>\n",
    "        <td>\n",
    "            <div align=\"left\", style=\"font-size:120%\">\n",
    "                <font color=\"#21618C\">\n",
    "                    <b>2. Check the statistical summary of all the numerical variables.</b>\n",
    "                </font>\n",
    "            </div>\n",
    "        </td>\n",
    "    </tr>\n",
    "</table>"
   ]
  },
  {
   "cell_type": "code",
   "execution_count": 6,
   "metadata": {},
   "outputs": [
    {
     "data": {
      "text/html": [
       "<div>\n",
       "<style scoped>\n",
       "    .dataframe tbody tr th:only-of-type {\n",
       "        vertical-align: middle;\n",
       "    }\n",
       "\n",
       "    .dataframe tbody tr th {\n",
       "        vertical-align: top;\n",
       "    }\n",
       "\n",
       "    .dataframe thead th {\n",
       "        text-align: right;\n",
       "    }\n",
       "</style>\n",
       "<table border=\"1\" class=\"dataframe\">\n",
       "  <thead>\n",
       "    <tr style=\"text-align: right;\">\n",
       "      <th></th>\n",
       "      <th>Temperature_min</th>\n",
       "      <th>Temperature_max</th>\n",
       "      <th>WindSpeedAt3am</th>\n",
       "      <th>WindSpeedAt10am</th>\n",
       "      <th>WindSpeedAt6pm</th>\n",
       "      <th>HumidityLevelAt10am</th>\n",
       "      <th>HumidityAt6pm</th>\n",
       "      <th>PressureAt10am</th>\n",
       "      <th>PressureAt6pm</th>\n",
       "      <th>TemperatureAt10am</th>\n",
       "      <th>TemperatureAt6pm</th>\n",
       "    </tr>\n",
       "  </thead>\n",
       "  <tbody>\n",
       "    <tr>\n",
       "      <th>count</th>\n",
       "      <td>10464.000000</td>\n",
       "      <td>10464.000000</td>\n",
       "      <td>10464.000000</td>\n",
       "      <td>10464.000000</td>\n",
       "      <td>10464.000000</td>\n",
       "      <td>10464.000000</td>\n",
       "      <td>10464.000000</td>\n",
       "      <td>10464.000000</td>\n",
       "      <td>10464.000000</td>\n",
       "      <td>10464.000000</td>\n",
       "      <td>10464.000000</td>\n",
       "    </tr>\n",
       "    <tr>\n",
       "      <th>mean</th>\n",
       "      <td>26.308964</td>\n",
       "      <td>30.309939</td>\n",
       "      <td>41.391820</td>\n",
       "      <td>15.379683</td>\n",
       "      <td>20.394209</td>\n",
       "      <td>82.210627</td>\n",
       "      <td>60.992928</td>\n",
       "      <td>1023.362481</td>\n",
       "      <td>1020.702332</td>\n",
       "      <td>30.713083</td>\n",
       "      <td>36.218626</td>\n",
       "    </tr>\n",
       "    <tr>\n",
       "      <th>std</th>\n",
       "      <td>6.843041</td>\n",
       "      <td>7.424327</td>\n",
       "      <td>14.437279</td>\n",
       "      <td>7.449217</td>\n",
       "      <td>7.847386</td>\n",
       "      <td>18.557838</td>\n",
       "      <td>22.737736</td>\n",
       "      <td>7.536385</td>\n",
       "      <td>7.433202</td>\n",
       "      <td>6.752840</td>\n",
       "      <td>7.723442</td>\n",
       "    </tr>\n",
       "    <tr>\n",
       "      <th>min</th>\n",
       "      <td>7.200000</td>\n",
       "      <td>13.200000</td>\n",
       "      <td>9.000000</td>\n",
       "      <td>2.000000</td>\n",
       "      <td>2.000000</td>\n",
       "      <td>11.000000</td>\n",
       "      <td>4.000000</td>\n",
       "      <td>993.700000</td>\n",
       "      <td>991.900000</td>\n",
       "      <td>10.300000</td>\n",
       "      <td>16.700000</td>\n",
       "    </tr>\n",
       "    <tr>\n",
       "      <th>25%</th>\n",
       "      <td>21.300000</td>\n",
       "      <td>24.600000</td>\n",
       "      <td>31.000000</td>\n",
       "      <td>10.000000</td>\n",
       "      <td>15.000000</td>\n",
       "      <td>70.000000</td>\n",
       "      <td>44.000000</td>\n",
       "      <td>1018.400000</td>\n",
       "      <td>1015.600000</td>\n",
       "      <td>25.800000</td>\n",
       "      <td>30.600000</td>\n",
       "    </tr>\n",
       "    <tr>\n",
       "      <th>50%</th>\n",
       "      <td>26.200000</td>\n",
       "      <td>29.500000</td>\n",
       "      <td>39.000000</td>\n",
       "      <td>14.000000</td>\n",
       "      <td>20.000000</td>\n",
       "      <td>85.000000</td>\n",
       "      <td>59.000000</td>\n",
       "      <td>1023.400000</td>\n",
       "      <td>1020.700000</td>\n",
       "      <td>30.800000</td>\n",
       "      <td>35.600000</td>\n",
       "    </tr>\n",
       "    <tr>\n",
       "      <th>75%</th>\n",
       "      <td>31.500000</td>\n",
       "      <td>35.600000</td>\n",
       "      <td>49.000000</td>\n",
       "      <td>20.000000</td>\n",
       "      <td>25.000000</td>\n",
       "      <td>98.000000</td>\n",
       "      <td>77.000000</td>\n",
       "      <td>1028.600000</td>\n",
       "      <td>1025.700000</td>\n",
       "      <td>35.400000</td>\n",
       "      <td>41.400000</td>\n",
       "    </tr>\n",
       "    <tr>\n",
       "      <th>max</th>\n",
       "      <td>47.300000</td>\n",
       "      <td>55.800000</td>\n",
       "      <td>131.000000</td>\n",
       "      <td>58.000000</td>\n",
       "      <td>63.000000</td>\n",
       "      <td>110.000000</td>\n",
       "      <td>110.000000</td>\n",
       "      <td>1048.900000</td>\n",
       "      <td>1046.400000</td>\n",
       "      <td>56.300000</td>\n",
       "      <td>63.300000</td>\n",
       "    </tr>\n",
       "  </tbody>\n",
       "</table>\n",
       "</div>"
      ],
      "text/plain": [
       "       Temperature_min  Temperature_max  WindSpeedAt3am  WindSpeedAt10am  \\\n",
       "count     10464.000000     10464.000000    10464.000000     10464.000000   \n",
       "mean         26.308964        30.309939       41.391820        15.379683   \n",
       "std           6.843041         7.424327       14.437279         7.449217   \n",
       "min           7.200000        13.200000        9.000000         2.000000   \n",
       "25%          21.300000        24.600000       31.000000        10.000000   \n",
       "50%          26.200000        29.500000       39.000000        14.000000   \n",
       "75%          31.500000        35.600000       49.000000        20.000000   \n",
       "max          47.300000        55.800000      131.000000        58.000000   \n",
       "\n",
       "       WindSpeedAt6pm  HumidityLevelAt10am  HumidityAt6pm  PressureAt10am  \\\n",
       "count    10464.000000         10464.000000   10464.000000    10464.000000   \n",
       "mean        20.394209            82.210627      60.992928     1023.362481   \n",
       "std          7.847386            18.557838      22.737736        7.536385   \n",
       "min          2.000000            11.000000       4.000000      993.700000   \n",
       "25%         15.000000            70.000000      44.000000     1018.400000   \n",
       "50%         20.000000            85.000000      59.000000     1023.400000   \n",
       "75%         25.000000            98.000000      77.000000     1028.600000   \n",
       "max         63.000000           110.000000     110.000000     1048.900000   \n",
       "\n",
       "       PressureAt6pm  TemperatureAt10am  TemperatureAt6pm  \n",
       "count   10464.000000       10464.000000      10464.000000  \n",
       "mean     1020.702332          30.713083         36.218626  \n",
       "std         7.433202           6.752840          7.723442  \n",
       "min       991.900000          10.300000         16.700000  \n",
       "25%      1015.600000          25.800000         30.600000  \n",
       "50%      1020.700000          30.800000         35.600000  \n",
       "75%      1025.700000          35.400000         41.400000  \n",
       "max      1046.400000          56.300000         63.300000  "
      ]
     },
     "execution_count": 6,
     "metadata": {},
     "output_type": "execute_result"
    }
   ],
   "source": [
    "df.describe()"
   ]
  },
  {
   "cell_type": "markdown",
   "metadata": {
    "collapsed": true
   },
   "source": [
    "<table align=\"left\">\n",
    "    <tr>\n",
    "        <td width=\"6%\">\n",
    "            <img src=\"question_icon.png\">\n",
    "        </td>\n",
    "        <td>\n",
    "            <div align=\"left\", style=\"font-size:120%\">\n",
    "                <font color=\"#21618C\">\n",
    "                    <b>3. Is the target variable highly imbalanced? </b>\n",
    "                </font>\n",
    "            </div>\n",
    "        </td>\n",
    "    </tr>\n",
    "</table>"
   ]
  },
  {
   "cell_type": "markdown",
   "metadata": {},
   "source": [
    "WillRainTomorrow is the target variable."
   ]
  },
  {
   "cell_type": "code",
   "execution_count": 8,
   "metadata": {},
   "outputs": [
    {
     "data": {
      "text/plain": [
       "No     5464\n",
       "Yes    5000\n",
       "Name: WillRainTomorrow?, dtype: int64"
      ]
     },
     "execution_count": 8,
     "metadata": {},
     "output_type": "execute_result"
    }
   ],
   "source": [
    "df[\"WillRainTomorrow?\"].value_counts()"
   ]
  },
  {
   "cell_type": "markdown",
   "metadata": {},
   "source": [
    "The target variable is not imbalanced"
   ]
  },
  {
   "cell_type": "markdown",
   "metadata": {
    "collapsed": true
   },
   "source": [
    "<table align=\"left\">\n",
    "    <tr>\n",
    "        <td width=\"6%\">\n",
    "            <img src=\"question_icon.png\">\n",
    "        </td>\n",
    "        <td>\n",
    "            <div align=\"left\", style=\"font-size:120%\">\n",
    "                <font color=\"#21618C\">\n",
    "                    <b>4. Check if any missing values are present in the data. If yes, do the needful.</b>\n",
    "                </font>\n",
    "            </div>\n",
    "        </td>\n",
    "    </tr>\n",
    "</table>"
   ]
  },
  {
   "cell_type": "code",
   "execution_count": 9,
   "metadata": {},
   "outputs": [
    {
     "data": {
      "text/plain": [
       "Temperature_min        0\n",
       "Temperature_max        0\n",
       "WindSpeedAt3am         0\n",
       "WindSpeedAt10am        0\n",
       "WindSpeedAt6pm         0\n",
       "HumidityLevelAt10am    0\n",
       "HumidityAt6pm          0\n",
       "PressureAt10am         0\n",
       "PressureAt6pm          0\n",
       "TemperatureAt10am      0\n",
       "TemperatureAt6pm       0\n",
       "WillRainTomorrow?      0\n",
       "dtype: int64"
      ]
     },
     "execution_count": 9,
     "metadata": {},
     "output_type": "execute_result"
    }
   ],
   "source": [
    "# write your code here\n",
    "df.isnull().sum()"
   ]
  },
  {
   "cell_type": "markdown",
   "metadata": {
    "collapsed": true
   },
   "source": [
    "<table align=\"left\">\n",
    "    <tr>\n",
    "        <td width=\"6%\">\n",
    "            <img src=\"question_icon.png\">\n",
    "        </td>\n",
    "        <td>\n",
    "            <div align=\"left\", style=\"font-size:120%\">\n",
    "                <font color=\"#21618C\">\n",
    "                    <b>5. Visualize the distribution of all the independent variables and identify the type of skewness.</b>\n",
    "                </font>\n",
    "            </div>\n",
    "        </td>\n",
    "    </tr>\n",
    "</table>"
   ]
  },
  {
   "cell_type": "code",
   "execution_count": 12,
   "metadata": {
    "scrolled": false
   },
   "outputs": [
    {
     "data": {
      "image/png": "[encoded data removed]",
      "text/plain": [
       "<Figure size 432x288 with 1 Axes>"
      ]
     },
     "metadata": {
      "needs_background": "light"
     },
     "output_type": "display_data"
    },
    {
     "name": "stderr",
     "output_type": "stream",
     "text": [
      "C:\\Users\\swathy\\anaconda3\\lib\\site-packages\\seaborn\\distributions.py:2619: FutureWarning: `distplot` is a deprecated function and will be removed in a future version. Please adapt your code to use either `displot` (a figure-level function with similar flexibility) or `histplot` (an axes-level function for histograms).\n",
      "  warnings.warn(msg, FutureWarning)\n"
     ]
    },
    {
     "data": {
      "image/png": "[encoded data removed]",
      "text/plain": [
       "<Figure size 432x288 with 1 Axes>"
      ]
     },
     "metadata": {
      "needs_background": "light"
     },
     "output_type": "display_data"
    },
    {
     "name": "stderr",
     "output_type": "stream",
     "text": [
      "C:\\Users\\swathy\\anaconda3\\lib\\site-packages\\seaborn\\distributions.py:2619: FutureWarning: `distplot` is a deprecated function and will be removed in a future version. Please adapt your code to use either `displot` (a figure-level function with similar flexibility) or `histplot` (an axes-level function for histograms).\n",
      "  warnings.warn(msg, FutureWarning)\n"
     ]
    },
    {
     "data": {
      "image/png": "[encoded data removed]",
      "text/plain": [
       "<Figure size 432x288 with 1 Axes>"
      ]
     },
     "metadata": {
      "needs_background": "light"
     },
     "output_type": "display_data"
    },
    {
     "name": "stderr",
     "output_type": "stream",
     "text": [
      "C:\\Users\\swathy\\anaconda3\\lib\\site-packages\\seaborn\\distributions.py:2619: FutureWarning: `distplot` is a deprecated function and will be removed in a future version. Please adapt your code to use either `displot` (a figure-level function with similar flexibility) or `histplot` (an axes-level function for histograms).\n",
      "  warnings.warn(msg, FutureWarning)\n"
     ]
    },
    {
     "data": {
      "image/png": "[encoded data removed]",
      "text/plain": [
       "<Figure size 432x288 with 1 Axes>"
      ]
     },
     "metadata": {
      "needs_background": "light"
     },
     "output_type": "display_data"
    },
    {
     "name": "stderr",
     "output_type": "stream",
     "text": [
      "C:\\Users\\swathy\\anaconda3\\lib\\site-packages\\seaborn\\distributions.py:2619: FutureWarning: `distplot` is a deprecated function and will be removed in a future version. Please adapt your code to use either `displot` (a figure-level function with similar flexibility) or `histplot` (an axes-level function for histograms).\n",
      "  warnings.warn(msg, FutureWarning)\n"
     ]
    },
    {
     "data": {
      "image/png": "[encoded data removed]",
      "text/plain": [
       "<Figure size 432x288 with 1 Axes>"
      ]
     },
     "metadata": {
      "needs_background": "light"
     },
     "output_type": "display_data"
    },
    {
     "name": "stderr",
     "output_type": "stream",
     "text": [
      "C:\\Users\\swathy\\anaconda3\\lib\\site-packages\\seaborn\\distributions.py:2619: FutureWarning: `distplot` is a deprecated function and will be removed in a future version. Please adapt your code to use either `displot` (a figure-level function with similar flexibility) or `histplot` (an axes-level function for histograms).\n",
      "  warnings.warn(msg, FutureWarning)\n"
     ]
    },
    {
     "data": {
      "image/png": "[encoded data removed]",
      "text/plain": [
       "<Figure size 432x288 with 1 Axes>"
      ]
     },
     "metadata": {
      "needs_background": "light"
     },
     "output_type": "display_data"
    },
    {
     "name": "stderr",
     "output_type": "stream",
     "text": [
      "C:\\Users\\swathy\\anaconda3\\lib\\site-packages\\seaborn\\distributions.py:2619: FutureWarning: `distplot` is a deprecated function and will be removed in a future version. Please adapt your code to use either `displot` (a figure-level function with similar flexibility) or `histplot` (an axes-level function for histograms).\n",
      "  warnings.warn(msg, FutureWarning)\n"
     ]
    },
    {
     "data": {
      "image/png": "[encoded data removed]",
      "text/plain": [
       "<Figure size 432x288 with 1 Axes>"
      ]
     },
     "metadata": {
      "needs_background": "light"
     },
     "output_type": "display_data"
    },
    {
     "name": "stderr",
     "output_type": "stream",
     "text": [
      "C:\\Users\\swathy\\anaconda3\\lib\\site-packages\\seaborn\\distributions.py:2619: FutureWarning: `distplot` is a deprecated function and will be removed in a future version. Please adapt your code to use either `displot` (a figure-level function with similar flexibility) or `histplot` (an axes-level function for histograms).\n",
      "  warnings.warn(msg, FutureWarning)\n"
     ]
    },
    {
     "data": {
      "image/png": "[encoded data removed]",
      "text/plain": [
       "<Figure size 432x288 with 1 Axes>"
      ]
     },
     "metadata": {
      "needs_background": "light"
     },
     "output_type": "display_data"
    },
    {
     "name": "stderr",
     "output_type": "stream",
     "text": [
      "C:\\Users\\swathy\\anaconda3\\lib\\site-packages\\seaborn\\distributions.py:2619: FutureWarning: `distplot` is a deprecated function and will be removed in a future version. Please adapt your code to use either `displot` (a figure-level function with similar flexibility) or `histplot` (an axes-level function for histograms).\n",
      "  warnings.warn(msg, FutureWarning)\n"
     ]
    },
    {
     "data": {
      "image/png": "[encoded data removed]",
      "text/plain": [
       "<Figure size 432x288 with 1 Axes>"
      ]
     },
     "metadata": {
      "needs_background": "light"
     },
     "output_type": "display_data"
    },
    {
     "name": "stderr",
     "output_type": "stream",
     "text": [
      "C:\\Users\\swathy\\anaconda3\\lib\\site-packages\\seaborn\\distributions.py:2619: FutureWarning: `distplot` is a deprecated function and will be removed in a future version. Please adapt your code to use either `displot` (a figure-level function with similar flexibility) or `histplot` (an axes-level function for histograms).\n",
      "  warnings.warn(msg, FutureWarning)\n"
     ]
    },
    {
     "data": {
      "image/png": "[encoded data removed]",
      "text/plain": [
       "<Figure size 432x288 with 1 Axes>"
      ]
     },
     "metadata": {
      "needs_background": "light"
     },
     "output_type": "display_data"
    },
    {
     "name": "stderr",
     "output_type": "stream",
     "text": [
      "C:\\Users\\swathy\\anaconda3\\lib\\site-packages\\seaborn\\distributions.py:2619: FutureWarning: `distplot` is a deprecated function and will be removed in a future version. Please adapt your code to use either `displot` (a figure-level function with similar flexibility) or `histplot` (an axes-level function for histograms).\n",
      "  warnings.warn(msg, FutureWarning)\n"
     ]
    },
    {
     "data": {
      "image/png": "[encoded data removed]",
      "text/plain": [
       "<Figure size 432x288 with 1 Axes>"
      ]
     },
     "metadata": {
      "needs_background": "light"
     },
     "output_type": "display_data"
    }
   ],
   "source": [
    "dfn=df.select_dtypes(include=\"number\")\n",
    "for col in dfn.columns:\n",
    "    sns.distplot(dfn[col])\n",
    "    plt.show()"
   ]
  },
  {
   "cell_type": "raw",
   "metadata": {},
   "source": [
    "we notice that \"HumidityLevelAt10am\" is left skewed."
   ]
  },
  {
   "cell_type": "markdown",
   "metadata": {
    "collapsed": true
   },
   "source": [
    "<table align=\"left\">\n",
    "    <tr>\n",
    "        <td width=\"6%\">\n",
    "            <img src=\"question_icon.png\">\n",
    "        </td>\n",
    "        <td>\n",
    "            <div align=\"left\", style=\"font-size:120%\">\n",
    "                <font color=\"#21618C\">\n",
    "                    <b>6. Transform the independent variables such that each variable will have a mean zero and standard deviation of 1.</b>\n",
    "                </font>\n",
    "            </div>\n",
    "        </td>\n",
    "    </tr>\n",
    "</table>"
   ]
  },
  {
   "cell_type": "code",
   "execution_count": 13,
   "metadata": {},
   "outputs": [],
   "source": [
    "y=df[\"WillRainTomorrow?\"]\n",
    "X=df.drop(\"WillRainTomorrow?\",axis=1)"
   ]
  },
  {
   "cell_type": "code",
   "execution_count": 15,
   "metadata": {},
   "outputs": [],
   "source": [
    "from sklearn.preprocessing import StandardScaler\n",
    "ss=StandardScaler()\n",
    "Xs=ss.fit_transform(X)"
   ]
  },
  {
   "cell_type": "markdown",
   "metadata": {},
   "source": [
    "<a id=\"pca\"> </a>\n",
    "## 2. Principal Component Analysis (PCA)"
   ]
  },
  {
   "cell_type": "markdown",
   "metadata": {
    "collapsed": true
   },
   "source": [
    "<table align=\"left\">\n",
    "    <tr>\n",
    "        <td width=\"6%\">\n",
    "            <img src=\"question_icon.png\">\n",
    "        </td>\n",
    "        <td>\n",
    "            <div align=\"left\", style=\"font-size:120%\">\n",
    "                <font color=\"#21618C\">\n",
    "                    <b>7. Find the covariance matrix of the standardized data.</b>\n",
    "                </font>\n",
    "            </div>\n",
    "        </td>\n",
    "    </tr>\n",
    "</table>"
   ]
  },
  {
   "cell_type": "code",
   "execution_count": 16,
   "metadata": {},
   "outputs": [],
   "source": [
    "cov_mat=np.cov(Xs)"
   ]
  },
  {
   "cell_type": "code",
   "execution_count": 23,
   "metadata": {
    "scrolled": true
   },
   "outputs": [
    {
     "data": {
      "text/plain": [
       "(10464, 10464)"
      ]
     },
     "execution_count": 23,
     "metadata": {},
     "output_type": "execute_result"
    }
   ],
   "source": [
    "cov_mat.shape"
   ]
  },
  {
   "cell_type": "code",
   "execution_count": 25,
   "metadata": {},
   "outputs": [],
   "source": [
    "cov_mat=np.cov(Xs.T)"
   ]
  },
  {
   "cell_type": "code",
   "execution_count": 26,
   "metadata": {},
   "outputs": [
    {
     "data": {
      "text/plain": [
       "(11, 11)"
      ]
     },
     "execution_count": 26,
     "metadata": {},
     "output_type": "execute_result"
    }
   ],
   "source": [
    "cov_mat.shape"
   ]
  },
  {
   "cell_type": "code",
   "execution_count": 18,
   "metadata": {},
   "outputs": [
    {
     "data": {
      "text/plain": [
       "array([[ 0.64092178, -0.10844643,  0.21088711, ..., -0.11707971,\n",
       "         0.23917022,  0.06465639],\n",
       "       [-0.10844643,  0.89426102,  0.1576168 , ...,  0.05396696,\n",
       "        -0.23797188,  0.19163788],\n",
       "       [ 0.21088711,  0.1576168 ,  0.32030063, ...,  0.12459125,\n",
       "        -0.07509555, -0.05941324]])"
      ]
     },
     "execution_count": 18,
     "metadata": {},
     "output_type": "execute_result"
    }
   ],
   "source": [
    "cov_mat[:3]"
   ]
  },
  {
   "cell_type": "markdown",
   "metadata": {
    "collapsed": true
   },
   "source": [
    "<table align=\"left\">\n",
    "    <tr>\n",
    "        <td width=\"6%\">\n",
    "            <img src=\"question_icon.png\">\n",
    "        </td>\n",
    "        <td>\n",
    "            <div align=\"left\", style=\"font-size:120%\">\n",
    "                <font color=\"#21618C\">\n",
    "                    <b>8. Compute the eigenvalues and eigenvectors of the above covariance matrix.</b>\n",
    "                </font>\n",
    "            </div>\n",
    "        </td>\n",
    "    </tr>\n",
    "</table>"
   ]
  },
  {
   "cell_type": "code",
   "execution_count": 27,
   "metadata": {},
   "outputs": [],
   "source": [
    "eigenvalue,eigenvector=np.linalg.eig(cov_mat)\n"
   ]
  },
  {
   "cell_type": "code",
   "execution_count": 28,
   "metadata": {
    "scrolled": true
   },
   "outputs": [
    {
     "data": {
      "text/plain": [
       "[4.37827342476177,\n",
       " 2.205376114285331,\n",
       " 1.4028950957281165,\n",
       " 0.9390912080234743,\n",
       " 0.6918597738714433,\n",
       " 0.38762837994450317,\n",
       " 0.34242383692492656,\n",
       " 0.2432917452762679,\n",
       " 0.11262274162621201,\n",
       " 0.137482005810032,\n",
       " 0.1601069974600569]"
      ]
     },
     "execution_count": 28,
     "metadata": {},
     "output_type": "execute_result"
    }
   ],
   "source": [
    "eigenvalue=eigenvalue.tolist()\n",
    "eigenvalue"
   ]
  },
  {
   "cell_type": "code",
   "execution_count": null,
   "metadata": {},
   "outputs": [],
   "source": []
  },
  {
   "cell_type": "markdown",
   "metadata": {
    "collapsed": true
   },
   "source": [
    "<table align=\"left\">\n",
    "    <tr>\n",
    "        <td width=\"6%\">\n",
    "            <img src=\"question_icon.png\">\n",
    "        </td>\n",
    "        <td>\n",
    "            <div align=\"left\", style=\"font-size:120%\">\n",
    "                <font color=\"#21618C\">\n",
    "                    <b>9. Use the Kaiser criterion to identify the optimal number of principal components.</b>\n",
    "                </font>\n",
    "            </div>\n",
    "        </td>\n",
    "    </tr>\n",
    "</table>"
   ]
  },
  {
   "cell_type": "markdown",
   "metadata": {},
   "source": [
    "we will select 3 components with eigen value >= 1."
   ]
  },
  {
   "cell_type": "markdown",
   "metadata": {
    "collapsed": true
   },
   "source": [
    "<table align=\"left\">\n",
    "    <tr>\n",
    "        <td width=\"6%\">\n",
    "            <img src=\"question_icon.png\">\n",
    "        </td>\n",
    "        <td>\n",
    "            <div align=\"left\", style=\"font-size:120%\">\n",
    "                <font color=\"#21618C\">\n",
    "                    <b>10. How many minimum principal components are required to explain at least 80% of the variation in the data?</b>\n",
    "                </font>\n",
    "            </div>\n",
    "        </td>\n",
    "    </tr>\n",
    "</table>"
   ]
  },
  {
   "cell_type": "code",
   "execution_count": 33,
   "metadata": {},
   "outputs": [],
   "source": [
    "percent_var=[]\n",
    "for i in eigenvalue:\n",
    "    var += i*100/11\n",
    "    percent_var.append(var)"
   ]
  },
  {
   "cell_type": "code",
   "execution_count": 34,
   "metadata": {
    "scrolled": true
   },
   "outputs": [
    {
     "data": {
      "text/plain": [
       "[41.25800383838024,\n",
       " 61.30687760461052,\n",
       " 74.06046938395704,\n",
       " 82.59766218417045,\n",
       " 88.88729649209266,\n",
       " 92.4111908552245,\n",
       " 95.5241348272693,\n",
       " 97.73587796614446,\n",
       " 98.75972107183729,\n",
       " 100.00955748829213,\n",
       " 101.46507564701992]"
      ]
     },
     "execution_count": 34,
     "metadata": {},
     "output_type": "execute_result"
    }
   ],
   "source": [
    "percent_var"
   ]
  },
  {
   "cell_type": "markdown",
   "metadata": {},
   "source": [
    "we  need 4 components to take care of 80% of variation"
   ]
  },
  {
   "cell_type": "markdown",
   "metadata": {
    "collapsed": true
   },
   "source": [
    "<table align=\"left\">\n",
    "    <tr>\n",
    "        <td width=\"6%\">\n",
    "            <img src=\"question_icon.png\">\n",
    "        </td>\n",
    "        <td>\n",
    "            <div align=\"left\", style=\"font-size:120%\">\n",
    "                <font color=\"#21618C\">\n",
    "                    <b>11. Create a dataframe of the transformed data with 4 principal components.</b>\n",
    "                </font>\n",
    "            </div>\n",
    "        </td>\n",
    "    </tr>\n",
    "</table>"
   ]
  },
  {
   "cell_type": "code",
   "execution_count": 36,
   "metadata": {},
   "outputs": [
    {
     "data": {
      "text/plain": [
       "(10464, 4)"
      ]
     },
     "execution_count": 36,
     "metadata": {},
     "output_type": "execute_result"
    }
   ],
   "source": [
    "eig_vec4=eigenvector[:,0:4]\n",
    "X_pca4=np.dot(Xs,eig_vec4)\n",
    "X_pca4.shape"
   ]
  },
  {
   "cell_type": "code",
   "execution_count": null,
   "metadata": {},
   "outputs": [],
   "source": []
  },
  {
   "cell_type": "code",
   "execution_count": null,
   "metadata": {},
   "outputs": [],
   "source": []
  },
  {
   "cell_type": "markdown",
   "metadata": {
    "collapsed": true
   },
   "source": [
    "<table align=\"left\">\n",
    "    <tr>\n",
    "        <td width=\"6%\">\n",
    "            <img src=\"question_icon.png\">\n",
    "        </td>\n",
    "        <td>\n",
    "            <div align=\"left\", style=\"font-size:120%\">\n",
    "                <font color=\"#21618C\">\n",
    "                    <b>12. Visualize the rain prediction data by transforming it to 2-dimensions using the python library. Also, display the classes of the target variables with different colors.</b>\n",
    "                </font>\n",
    "            </div>\n",
    "        </td>\n",
    "    </tr>\n",
    "</table>"
   ]
  },
  {
   "cell_type": "code",
   "execution_count": 39,
   "metadata": {},
   "outputs": [],
   "source": [
    "from sklearn.decomposition import PCA\n",
    "pca=PCA(n_components=2)\n",
    "X_pca=pca.fit_transform(Xs)\n",
    "\n",
    "X_pca=pd.DataFrame(X_pca,columns=[\"PC1\",\"PC2\"])"
   ]
  },
  {
   "cell_type": "code",
   "execution_count": 40,
   "metadata": {
    "scrolled": true
   },
   "outputs": [
    {
     "data": {
      "text/html": [
       "<div>\n",
       "<style scoped>\n",
       "    .dataframe tbody tr th:only-of-type {\n",
       "        vertical-align: middle;\n",
       "    }\n",
       "\n",
       "    .dataframe tbody tr th {\n",
       "        vertical-align: top;\n",
       "    }\n",
       "\n",
       "    .dataframe thead th {\n",
       "        text-align: right;\n",
       "    }\n",
       "</style>\n",
       "<table border=\"1\" class=\"dataframe\">\n",
       "  <thead>\n",
       "    <tr style=\"text-align: right;\">\n",
       "      <th></th>\n",
       "      <th>PC1</th>\n",
       "      <th>PC2</th>\n",
       "    </tr>\n",
       "  </thead>\n",
       "  <tbody>\n",
       "    <tr>\n",
       "      <th>0</th>\n",
       "      <td>-1.193577</td>\n",
       "      <td>-0.344281</td>\n",
       "    </tr>\n",
       "    <tr>\n",
       "      <th>1</th>\n",
       "      <td>-0.417268</td>\n",
       "      <td>-2.300435</td>\n",
       "    </tr>\n",
       "    <tr>\n",
       "      <th>2</th>\n",
       "      <td>-1.374390</td>\n",
       "      <td>-0.522208</td>\n",
       "    </tr>\n",
       "    <tr>\n",
       "      <th>3</th>\n",
       "      <td>-0.166105</td>\n",
       "      <td>1.620767</td>\n",
       "    </tr>\n",
       "    <tr>\n",
       "      <th>4</th>\n",
       "      <td>0.528825</td>\n",
       "      <td>-2.208708</td>\n",
       "    </tr>\n",
       "  </tbody>\n",
       "</table>\n",
       "</div>"
      ],
      "text/plain": [
       "        PC1       PC2\n",
       "0 -1.193577 -0.344281\n",
       "1 -0.417268 -2.300435\n",
       "2 -1.374390 -0.522208\n",
       "3 -0.166105  1.620767\n",
       "4  0.528825 -2.208708"
      ]
     },
     "execution_count": 40,
     "metadata": {},
     "output_type": "execute_result"
    }
   ],
   "source": [
    "X_pca.head()"
   ]
  },
  {
   "cell_type": "code",
   "execution_count": 42,
   "metadata": {},
   "outputs": [
    {
     "data": {
      "image/png": "[encoded data removed]",
      "text/plain": [
       "<Figure size 432x288 with 1 Axes>"
      ]
     },
     "metadata": {
      "needs_background": "light"
     },
     "output_type": "display_data"
    }
   ],
   "source": [
    "sns.scatterplot(x=\"PC1\",y=\"PC2\",hue=y,data=X_pca)\n",
    "plt.show()"
   ]
  },
  {
   "cell_type": "markdown",
   "metadata": {
    "collapsed": true
   },
   "source": [
    "<table align=\"left\">\n",
    "    <tr>\n",
    "        <td width=\"6%\">\n",
    "            <img src=\"question_icon.png\">\n",
    "        </td>\n",
    "        <td>\n",
    "            <div align=\"left\", style=\"font-size:120%\">\n",
    "                <font color=\"#21618C\">\n",
    "                    <b>13. Split the dataset of the 11 standardized features into the train and test sets of proportion 70:30.</b>\n",
    "                </font>\n",
    "            </div>\n",
    "        </td>\n",
    "    </tr>\n",
    "</table>"
   ]
  },
  {
   "cell_type": "code",
   "execution_count": 43,
   "metadata": {},
   "outputs": [],
   "source": [
    "from sklearn.model_selection import train_test_split\n",
    "X_train,X_test,y_train,y_test=train_test_split(Xs,y,test_size=.30,random_state=42)"
   ]
  },
  {
   "cell_type": "markdown",
   "metadata": {
    "collapsed": true
   },
   "source": [
    "<table align=\"left\">\n",
    "    <tr>\n",
    "        <td width=\"6%\">\n",
    "            <img src=\"question_icon.png\">\n",
    "        </td>\n",
    "        <td>\n",
    "            <div align=\"left\", style=\"font-size:120%\">\n",
    "                <font color=\"#21618C\">\n",
    "                    <b>14. Reduce the number of features in the train and test sets to 3 using the python library.</b>\n",
    "                </font>\n",
    "            </div>\n",
    "        </td>\n",
    "    </tr>\n",
    "</table>"
   ]
  },
  {
   "cell_type": "code",
   "execution_count": 46,
   "metadata": {},
   "outputs": [],
   "source": [
    "pca=PCA(n_components=3)\n",
    "X_train_pca=pca.fit_transform(X_train)\n",
    "X_test_pca=pca.transform(X_test)"
   ]
  },
  {
   "cell_type": "markdown",
   "metadata": {
    "collapsed": true
   },
   "source": [
    "<table align=\"left\">\n",
    "    <tr>\n",
    "        <td width=\"6%\">\n",
    "            <img src=\"question_icon.png\">\n",
    "        </td>\n",
    "        <td>\n",
    "            <div align=\"left\", style=\"font-size:120%\">\n",
    "                <font color=\"#21618C\">\n",
    "                    <b>15. Write a generalized function that builds the random forest classification algorithm and returns the accuracy of the algorithm on the test set.</b>\n",
    "                </font>\n",
    "            </div>\n",
    "        </td>\n",
    "    </tr>\n",
    "</table>"
   ]
  },
  {
   "cell_type": "code",
   "execution_count": 47,
   "metadata": {},
   "outputs": [
    {
     "name": "stdout",
     "output_type": "stream",
     "text": [
      "Train classification report                precision    recall  f1-score   support\n",
      "\n",
      "          No       1.00      1.00      1.00      3816\n",
      "         Yes       1.00      1.00      1.00      3508\n",
      "\n",
      "    accuracy                           1.00      7324\n",
      "   macro avg       1.00      1.00      1.00      7324\n",
      "weighted avg       1.00      1.00      1.00      7324\n",
      "\n",
      "Train accuracy score  1.0\n",
      "Train confusion matrix  [[3816    0]\n",
      " [   0 3508]]\n",
      "Train ROC AUC Score is  1.0\n",
      " \n",
      "Test classification report                precision    recall  f1-score   support\n",
      "\n",
      "          No       0.97      0.88      0.92      1648\n",
      "         Yes       0.88      0.97      0.92      1492\n",
      "\n",
      "    accuracy                           0.92      3140\n",
      "   macro avg       0.92      0.92      0.92      3140\n",
      "weighted avg       0.93      0.92      0.92      3140\n",
      "\n",
      "Test  accuracy score  0.9213375796178344\n",
      "Test  confusion matrix  [[1442  206]\n",
      " [  41 1451]]\n",
      "Test ROC AUC Score is  0.9827024470314167\n"
     ]
    }
   ],
   "source": [
    "from sklearn.ensemble import RandomForestClassifier\n",
    "from sklearn.metrics import accuracy_score,classification_report,confusion_matrix,roc_auc_score\n",
    "\n",
    "rfc=RandomForestClassifier()\n",
    "\n",
    "rfc.fit(X_train_pca,y_train)\n",
    "y_train_pred=rfc.predict(X_train_pca)\n",
    "y_test_pred=rfc.predict(X_test_pca)\n",
    "\n",
    "# to find the probabilities for ROC AUC score\n",
    "y_train_prob=rfc.predict_proba(X_train_pca)[:,1]\n",
    "y_test_prob=rfc.predict_proba(X_test_pca)[:,1]\n",
    "print(\"Train classification report \",classification_report(y_train,y_train_pred))\n",
    "print(\"Train accuracy score \",accuracy_score(y_train,y_train_pred))\n",
    "print(\"Train confusion matrix \",confusion_matrix(y_train,y_train_pred))\n",
    "print(\"Train ROC AUC Score is \",roc_auc_score(y_train,y_train_prob))\n",
    "\n",
    "print(\" \")\n",
    "\n",
    "      \n",
    "print(\"Test classification report \",classification_report(y_test,y_test_pred))\n",
    "print(\"Test  accuracy score \",accuracy_score(y_test,y_test_pred))\n",
    "print(\"Test  confusion matrix \",confusion_matrix(y_test,y_test_pred))\n",
    "print(\"Test ROC AUC Score is \",roc_auc_score(y_test,y_test_prob))"
   ]
  },
  {
   "cell_type": "markdown",
   "metadata": {
    "collapsed": true
   },
   "source": [
    "<table align=\"left\">\n",
    "    <tr>\n",
    "        <td width=\"6%\">\n",
    "            <img src=\"question_icon.png\">\n",
    "        </td>\n",
    "        <td>\n",
    "            <div align=\"left\", style=\"font-size:120%\">\n",
    "                <font color=\"#21618C\">\n",
    "                    <b>16. Build a random forest model on the original data (without PCA transformation) and find the accuracy of the model on the test data. Also, calculate the time required to execute the code.</b>\n",
    "                </font>\n",
    "            </div>\n",
    "        </td>\n",
    "    </tr>\n",
    "</table>"
   ]
  },
  {
   "cell_type": "code",
   "execution_count": null,
   "metadata": {},
   "outputs": [],
   "source": []
  },
  {
   "cell_type": "code",
   "execution_count": 56,
   "metadata": {},
   "outputs": [
    {
     "name": "stdout",
     "output_type": "stream",
     "text": [
      "Train classification report                precision    recall  f1-score   support\n",
      "\n",
      "          No       1.00      1.00      1.00      3816\n",
      "         Yes       1.00      1.00      1.00      3508\n",
      "\n",
      "    accuracy                           1.00      7324\n",
      "   macro avg       1.00      1.00      1.00      7324\n",
      "weighted avg       1.00      1.00      1.00      7324\n",
      "\n",
      "Train accuracy score  1.0\n",
      "Train confusion matrix  [[3816    0]\n",
      " [   0 3508]]\n",
      "Train ROC AUC Score is  1.0\n",
      " \n",
      "Test classification report                precision    recall  f1-score   support\n",
      "\n",
      "          No       0.98      0.92      0.95      1648\n",
      "         Yes       0.92      0.98      0.95      1492\n",
      "\n",
      "    accuracy                           0.95      3140\n",
      "   macro avg       0.95      0.95      0.95      3140\n",
      "weighted avg       0.95      0.95      0.95      3140\n",
      "\n",
      "Test  accuracy score  0.95\n",
      "Test  confusion matrix  [[1522  126]\n",
      " [  31 1461]]\n",
      "Test ROC AUC Score is  0.9899215720086416\n",
      "CPU times: total: 1.14 s\n",
      "Wall time: 1.13 s\n"
     ]
    }
   ],
   "source": [
    "%%time\n",
    "rfc=RandomForestClassifier()\n",
    "\n",
    "rfc.fit(X_train,y_train)\n",
    "y_train_pred=rfc.predict(X_train)\n",
    "y_test_pred=rfc.predict(X_test)\n",
    "\n",
    "# to find the probabilities for ROC AUC score\n",
    "y_train_prob=rfc.predict_proba(X_train)[:,1]\n",
    "y_test_prob=rfc.predict_proba(X_test)[:,1]\n",
    "print(\"Train classification report \",classification_report(y_train,y_train_pred))\n",
    "print(\"Train accuracy score \",accuracy_score(y_train,y_train_pred))\n",
    "print(\"Train confusion matrix \",confusion_matrix(y_train,y_train_pred))\n",
    "print(\"Train ROC AUC Score is \",roc_auc_score(y_train,y_train_prob))\n",
    "\n",
    "print(\" \")\n",
    "\n",
    "      \n",
    "print(\"Test classification report \",classification_report(y_test,y_test_pred))\n",
    "print(\"Test  accuracy score \",accuracy_score(y_test,y_test_pred))\n",
    "print(\"Test  confusion matrix \",confusion_matrix(y_test,y_test_pred))\n",
    "print(\"Test ROC AUC Score is \",roc_auc_score(y_test,y_test_prob))"
   ]
  },
  {
   "cell_type": "markdown",
   "metadata": {
    "collapsed": true
   },
   "source": [
    "<table align=\"left\">\n",
    "    <tr>\n",
    "        <td width=\"6%\">\n",
    "            <img src=\"question_icon.png\">\n",
    "        </td>\n",
    "        <td>\n",
    "            <div align=\"left\", style=\"font-size:120%\">\n",
    "                <font color=\"#21618C\">\n",
    "                    <b>17. Build a random forest model on the dataset transformed using PCA and find the accuracy of the model on the test data. Also, calculate the time required to execute the code.</b>\n",
    "                </font>\n",
    "            </div>\n",
    "        </td>\n",
    "    </tr>\n",
    "</table>"
   ]
  },
  {
   "cell_type": "code",
   "execution_count": 49,
   "metadata": {},
   "outputs": [],
   "source": [
    "pca=PCA(n_components=4)\n",
    "X_train_pca=pca.fit_transform(X_train)\n",
    "X_test_pca=pca.transform(X_test)"
   ]
  },
  {
   "cell_type": "code",
   "execution_count": 55,
   "metadata": {},
   "outputs": [
    {
     "name": "stdout",
     "output_type": "stream",
     "text": [
      "Train classification report                precision    recall  f1-score   support\n",
      "\n",
      "          No       1.00      1.00      1.00      3816\n",
      "         Yes       1.00      1.00      1.00      3508\n",
      "\n",
      "    accuracy                           1.00      7324\n",
      "   macro avg       1.00      1.00      1.00      7324\n",
      "weighted avg       1.00      1.00      1.00      7324\n",
      "\n",
      "Train accuracy score  0.9998634625887494\n",
      "Train confusion matrix  [[3815    1]\n",
      " [   0 3508]]\n",
      "Train ROC AUC Score is  1.0\n",
      " \n",
      "Test classification report                precision    recall  f1-score   support\n",
      "\n",
      "          No       0.98      0.92      0.95      1648\n",
      "         Yes       0.92      0.98      0.95      1492\n",
      "\n",
      "    accuracy                           0.95      3140\n",
      "   macro avg       0.95      0.95      0.95      3140\n",
      "weighted avg       0.95      0.95      0.95      3140\n",
      "\n",
      "Test  accuracy score  0.9484076433121019\n",
      "Test  confusion matrix  [[1518  130]\n",
      " [  32 1460]]\n",
      "Test ROC AUC Score is  0.9897304230979463\n",
      "CPU times: total: 1.11 s\n",
      "Wall time: 1.11 s\n"
     ]
    }
   ],
   "source": [
    "%%time\n",
    "rfc=RandomForestClassifier()\n",
    "\n",
    "rfc.fit(X_train,y_train)\n",
    "y_train_pred=rfc.predict(X_train)\n",
    "y_test_pred=rfc.predict(X_test)\n",
    "\n",
    "# to find the probabilities for ROC AUC score\n",
    "y_train_prob=rfc.predict_proba(X_train)[:,1]\n",
    "y_test_prob=rfc.predict_proba(X_test)[:,1]\n",
    "print(\"Train classification report \",classification_report(y_train,y_train_pred))\n",
    "print(\"Train accuracy score \",accuracy_score(y_train,y_train_pred))\n",
    "print(\"Train confusion matrix \",confusion_matrix(y_train,y_train_pred))\n",
    "print(\"Train ROC AUC Score is \",roc_auc_score(y_train,y_train_prob))\n",
    "\n",
    "print(\" \")\n",
    "\n",
    "      \n",
    "print(\"Test classification report \",classification_report(y_test,y_test_pred))\n",
    "print(\"Test  accuracy score \",accuracy_score(y_test,y_test_pred))\n",
    "print(\"Test  confusion matrix \",confusion_matrix(y_test,y_test_pred))\n",
    "print(\"Test ROC AUC Score is \",roc_auc_score(y_test,y_test_prob))"
   ]
  },
  {
   "cell_type": "markdown",
   "metadata": {},
   "source": [
    "<a id=\"lda\"> </a>\n",
    "## 3. Linear Discriminant Analysis (LDA)"
   ]
  },
  {
   "cell_type": "markdown",
   "metadata": {
    "collapsed": true
   },
   "source": [
    "<table align=\"left\">\n",
    "    <tr>\n",
    "        <td width=\"6%\">\n",
    "            <img src=\"question_icon.png\">\n",
    "        </td>\n",
    "        <td>\n",
    "            <div align=\"left\", style=\"font-size:120%\">\n",
    "                <font color=\"#21618C\">\n",
    "                    <b>18. Project the train and test sets (data without PCA transformation) onto the 1-dimensional vector that maximizes the separation between the classes of the target variable.</b>\n",
    "                </font>\n",
    "            </div>\n",
    "        </td>\n",
    "    </tr>\n",
    "</table>"
   ]
  },
  {
   "cell_type": "code",
   "execution_count": 52,
   "metadata": {},
   "outputs": [],
   "source": [
    "from sklearn.discriminant_analysis import LinearDiscriminantAnalysis\n",
    "lda=LinearDiscriminantAnalysis()\n",
    "\n",
    "X_train_lda=lda.fit_transform(X_train,y_train)\n",
    "X_test_lda=lda.transform(X_test)   # "
   ]
  },
  {
   "cell_type": "markdown",
   "metadata": {
    "collapsed": true
   },
   "source": [
    "<table align=\"left\">\n",
    "    <tr>\n",
    "        <td width=\"6%\">\n",
    "            <img src=\"question_icon.png\">\n",
    "        </td>\n",
    "        <td>\n",
    "            <div align=\"left\", style=\"font-size:120%\">\n",
    "                <font color=\"#21618C\">\n",
    "                    <b>19. Run the random forest classifier on the LDA transformed data and find the model accuracy on the test set. Also, calculate the time required to execute the code.</b>\n",
    "                </font>\n",
    "            </div>\n",
    "        </td>\n",
    "    </tr>\n",
    "</table>"
   ]
  },
  {
   "cell_type": "code",
   "execution_count": 54,
   "metadata": {
    "scrolled": true
   },
   "outputs": [
    {
     "name": "stdout",
     "output_type": "stream",
     "text": [
      "Train classification report                precision    recall  f1-score   support\n",
      "\n",
      "          No       1.00      1.00      1.00      3816\n",
      "         Yes       1.00      1.00      1.00      3508\n",
      "\n",
      "    accuracy                           1.00      7324\n",
      "   macro avg       1.00      1.00      1.00      7324\n",
      "weighted avg       1.00      1.00      1.00      7324\n",
      "\n",
      "Train accuracy score  0.9994538503549972\n",
      "Train confusion matrix  [[3813    3]\n",
      " [   1 3507]]\n",
      "Train ROC AUC Score is  0.9999996638411395\n",
      " \n",
      "Test classification report                precision    recall  f1-score   support\n",
      "\n",
      "          No       0.97      0.86      0.91      1648\n",
      "         Yes       0.86      0.97      0.91      1492\n",
      "\n",
      "    accuracy                           0.91      3140\n",
      "   macro avg       0.92      0.92      0.91      3140\n",
      "weighted avg       0.92      0.91      0.91      3140\n",
      "\n",
      "Test  accuracy score  0.9136942675159235\n",
      "Test  confusion matrix  [[1421  227]\n",
      " [  44 1448]]\n",
      "Test ROC AUC Score is  0.9349857817746428\n",
      "CPU times: total: 906 ms\n",
      "Wall time: 893 ms\n"
     ]
    }
   ],
   "source": [
    "%%time\n",
    "rfc=RandomForestClassifier()\n",
    "\n",
    "rfc.fit(X_train_lda,y_train)\n",
    "y_train_pred=rfc.predict(X_train_lda)\n",
    "y_test_pred=rfc.predict(X_test_lda)\n",
    "\n",
    "# to find the probabilities for ROC AUC score\n",
    "y_train_prob=rfc.predict_proba(X_train_lda)[:,1]\n",
    "y_test_prob=rfc.predict_proba(X_test_lda)[:,1]\n",
    "print(\"Train classification report \",classification_report(y_train,y_train_pred))\n",
    "print(\"Train accuracy score \",accuracy_score(y_train,y_train_pred))\n",
    "print(\"Train confusion matrix \",confusion_matrix(y_train,y_train_pred))\n",
    "print(\"Train ROC AUC Score is \",roc_auc_score(y_train,y_train_prob))\n",
    "\n",
    "print(\" \")\n",
    "\n",
    "      \n",
    "print(\"Test classification report \",classification_report(y_test,y_test_pred))\n",
    "print(\"Test  accuracy score \",accuracy_score(y_test,y_test_pred))\n",
    "print(\"Test  confusion matrix \",confusion_matrix(y_test,y_test_pred))\n",
    "print(\"Test ROC AUC Score is \",roc_auc_score(y_test,y_test_prob))"
   ]
  },
  {
   "cell_type": "code",
   "execution_count": null,
   "metadata": {},
   "outputs": [],
   "source": []
  },
  {
   "cell_type": "markdown",
   "metadata": {
    "collapsed": true
   },
   "source": [
    "<table align=\"left\">\n",
    "    <tr>\n",
    "        <td width=\"6%\">\n",
    "            <img src=\"question_icon.png\">\n",
    "        </td>\n",
    "        <td>\n",
    "            <div align=\"left\", style=\"font-size:120%\">\n",
    "                <font color=\"#21618C\">\n",
    "                    <b>20. Which of the above methods is more efficient in reducing the dimension of the data?</b>\n",
    "                </font>\n",
    "            </div>\n",
    "        </td>\n",
    "    </tr>\n",
    "</table>"
   ]
  },
  {
   "cell_type": "raw",
   "metadata": {},
   "source": [
    "considering the accuracy and the time requried PCA seems to be the best (although time requried was higher for PCA)"
   ]
  },
  {
   "cell_type": "code",
   "execution_count": null,
   "metadata": {},
   "outputs": [],
   "source": []
  }
 ],
 "metadata": {
  "kernelspec": {
   "display_name": "Python 3 (ipykernel)",
   "language": "python",
   "name": "python3"
  },
  "language_info": {
   "codemirror_mode": {
    "name": "ipython",
    "version": 3
   },
   "file_extension": ".py",
   "mimetype": "text/x-python",
   "name": "python",
   "nbconvert_exporter": "python",
   "pygments_lexer": "ipython3",
   "version": "3.9.12"
  }
 },
 "nbformat": 4,
 "nbformat_minor": 4
}
